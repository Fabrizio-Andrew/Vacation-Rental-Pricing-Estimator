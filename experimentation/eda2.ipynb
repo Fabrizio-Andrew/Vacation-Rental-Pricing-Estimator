{
 "cells": [
  {
   "cell_type": "code",
   "execution_count": 57,
   "metadata": {},
   "outputs": [],
   "source": [
    "import csv\n",
    "import json\n",
    "import feather # pip install feather-format\n",
    "import numpy as np\n",
    "import pandas as pd\n",
    "import os\n",
    "import datetime\n",
    "import seaborn as sns\n",
    "import matplotlib.pyplot as plt\n",
    "from scipy import stats\n",
    "import geopandas as gpd\n",
    "import ast\n",
    "from sklearn import metrics\n",
    "from sklearn.metrics import r2_score, mean_absolute_error\n",
    "from sklearn.decomposition import PCA\n",
    "from sklearn.model_selection import train_test_split\n",
    "from sklearn.linear_model import LinearRegression,LogisticRegression\n",
    "import geopy.distance\n",
    "%matplotlib inline\n",
    "## Some utility functions\n",
    "def percentToInt(percentString):\n",
    "    return int(percentString.rstrip(\"%\"))\n",
    "def trueFalseToBinary(tfstring):\n",
    "    return 1 if tfstring=='t' else '0'\n",
    "def stringListToList(stringList):\n",
    "    return ast.literal_eval(stringList)\n",
    "def stringListToCount(stringList):\n",
    "    return len(ast.literal_eval(stringList))\n",
    "def euclideanDistance(lat1, long1, lat2, long2):\n",
    "    return ((long2-long1)**2 + (lat2-lat1)**2)**(0.5)\n",
    "    \n",
    "reviews_data_path = \"feather/reviews.feather\"\n",
    "listings_data_path = \"feather/listings.feather\"\n",
    "calendar_data_path = \"feather/calendar.feather\"\n",
    "sites_data_path = \"data/sites_boston.csv\"\n",
    "\n",
    "reviews_data = pd.read_feather(reviews_data_path)\n",
    "listings_data = pd.read_feather(listings_data_path)\n",
    "calendar_data = pd.read_feather(calendar_data_path)\n",
    "sites_data = pd.read_csv(sites_data_path)\n",
    "\n",
    "# subway data\n",
    "# https://api-v3.mbta.com/docs/swagger/index.html#/Stop\n",
    "# holidays data\n",
    "# https://pypi.org/project/holidays/"
   ]
  },
  {
   "cell_type": "code",
   "execution_count": 37,
   "metadata": {},
   "outputs": [
    {
     "name": "stdout",
     "output_type": "stream",
     "text": [
      "before droppign rows with null columns:  (3043, 27)\n",
      "after dropping rows with null columns:  (1674, 27)\n"
     ]
    }
   ],
   "source": [
    "features_none_null = [\"host_since\",\"host_verifications\", \n",
    "                        \"host_response_rate\",\"host_acceptance_rate\",\n",
    "                        \"host_response_time\",\n",
    "                        \"host_is_superhost\", \n",
    "                        \"latitude\", \"longitude\",\n",
    "                        \"room_type\", \"accommodates\", \n",
    "                        \"amenities\",\"minimum_nights\",\n",
    "                        \"beds\", \n",
    "                        \"availability_30\",\t\"availability_60\",\t\"availability_90\",\"availability_365\", \n",
    "                        \"number_of_reviews\", \"review_scores_rating\", \n",
    "                        \"review_scores_accuracy\",\t\"review_scores_cleanliness\",\n",
    "                        \"review_scores_checkin\",\t\"review_scores_communication\",\n",
    "                        \"review_scores_location\",\t\"review_scores_value\",\n",
    "                        \"instant_bookable\",  \"price\",\n",
    "                        ]\n",
    "# onehot_vars = [\"room_type\", ]\n",
    "# binary_vars = [\"host_is_superhost\", \"instant_bookable\" ]\n",
    "\n",
    "df_none_null = listings_data.copy(deep = True)[features_none_null]\n",
    "print(\"before droppign rows with null columns: \", df_none_null.shape)\n",
    "for col in features_none_null:\n",
    "    df_none_null = df_none_null[df_none_null[col].notna()]\n",
    "print(\"after dropping rows with null columns: \", df_none_null.shape)\n"
   ]
  },
  {
   "cell_type": "code",
   "execution_count": 38,
   "metadata": {},
   "outputs": [
    {
     "name": "stdout",
     "output_type": "stream",
     "text": [
      "after processing (1674, 33)\n"
     ]
    }
   ],
   "source": [
    "\n",
    "reference_date = datetime.datetime(2021,7,12)\n",
    "# adding custom: host_number_of_years\n",
    "host_number_of_years = [(reference_date - datetime.datetime.strptime(i, '%Y-%m-%d')).days/365\n",
    "                        for i in df_none_null['host_since']]\n",
    "df_none_null[\"host_number_of_years\"] = host_number_of_years\n",
    "df_none_null = df_none_null.drop(['host_since'], axis=1)\n",
    "df_none_null['price'] = df_none_null['price'].map(lambda x:float(x[1:].replace(',', ''))).astype('int32')\n",
    "# host reposnse rate; remove % sign, convert to integer\n",
    "df_none_null['host_response_rate'] = df_none_null['host_response_rate'].map(percentToInt).astype('int32')\n",
    "#  host_acceptance_rate:\n",
    "df_none_null['host_acceptance_rate'] = df_none_null['host_acceptance_rate'].map(percentToInt).astype('int32')\n",
    "\n",
    "host_response_time_dummies = pd.get_dummies(df_none_null['host_response_time'],prefix='host_response_time')\n",
    "df_none_null = pd.concat([df_none_null,host_response_time_dummies], axis = 1)\n",
    "df_none_null = df_none_null.drop(['host_response_time'], axis=1)\n",
    "\n",
    "# host_is_superhost: t/f to binary\n",
    "df_none_null['host_is_superhost'] = df_none_null['host_is_superhost'].map(trueFalseToBinary).astype('int32')\n",
    "# \"host_verifications\",\n",
    "df_none_null['host_verifications'] = df_none_null['host_verifications'].map(stringListToCount).astype('int32')\n",
    "\n",
    "room_type_dummies = pd.get_dummies(df_none_null['room_type'],prefix='room_type')\n",
    "df_none_null = pd.concat([df_none_null,room_type_dummies], axis = 1)\n",
    "df_none_null = df_none_null.drop(['room_type'], axis=1)\n",
    "\n",
    "df_none_null['amenities'] = df_none_null['amenities'].map(stringListToCount).astype('int32')\n",
    "# \"availability_30\",\n",
    "df_none_null['availability_30'] = df_none_null['availability_30']/30.0\n",
    "# \"availability_60\",\n",
    "df_none_null['availability_60'] = df_none_null['availability_60']/60.0\n",
    "# \"availability_90\",\n",
    "df_none_null['availability_90'] = df_none_null['availability_90']/90.0\n",
    "# \"availability_365\", \n",
    "df_none_null['availability_365'] = df_none_null['availability_365']/365.0\n",
    "\n",
    "df_none_null['instant_bookable'] = df_none_null['instant_bookable'].map(trueFalseToBinary).astype('int32')\n",
    "\n",
    "print(\"after processing\", df_none_null.shape)\n",
    "# df_none_null.dtypes"
   ]
  },
  {
   "cell_type": "code",
   "execution_count": 52,
   "metadata": {},
   "outputs": [
    {
     "data": {
      "text/html": [
       "<div>\n",
       "<style scoped>\n",
       "    .dataframe tbody tr th:only-of-type {\n",
       "        vertical-align: middle;\n",
       "    }\n",
       "\n",
       "    .dataframe tbody tr th {\n",
       "        vertical-align: top;\n",
       "    }\n",
       "\n",
       "    .dataframe thead th {\n",
       "        text-align: right;\n",
       "    }\n",
       "</style>\n",
       "<table border=\"1\" class=\"dataframe\">\n",
       "  <thead>\n",
       "    <tr style=\"text-align: right;\">\n",
       "      <th></th>\n",
       "      <th>Place</th>\n",
       "      <th>Address</th>\n",
       "      <th>Website</th>\n",
       "      <th>Latitude</th>\n",
       "      <th>Longitude</th>\n",
       "    </tr>\n",
       "  </thead>\n",
       "  <tbody>\n",
       "    <tr>\n",
       "      <th>0</th>\n",
       "      <td>Harvard University</td>\n",
       "      <td>Cambridge, MA 02138</td>\n",
       "      <td>https://www.harvard.edu</td>\n",
       "      <td>42.374740</td>\n",
       "      <td>-71.118838</td>\n",
       "    </tr>\n",
       "    <tr>\n",
       "      <th>1</th>\n",
       "      <td>Massachusetts Institute of Technology (MIT)</td>\n",
       "      <td>77 Massachusetts Ave, Cambridge, MA 02139</td>\n",
       "      <td>http://web.mit.edu/</td>\n",
       "      <td>42.360095</td>\n",
       "      <td>-71.096349</td>\n",
       "    </tr>\n",
       "    <tr>\n",
       "      <th>2</th>\n",
       "      <td>Hatch Memorial Shell</td>\n",
       "      <td>47 David G Mugar Way, Boston, MA 02108</td>\n",
       "      <td>http://hatchshell.com/</td>\n",
       "      <td>42.357293</td>\n",
       "      <td>-71.075888</td>\n",
       "    </tr>\n",
       "    <tr>\n",
       "      <th>3</th>\n",
       "      <td>Boston Common</td>\n",
       "      <td>1B Charles St, Boston, MA 02116</td>\n",
       "      <td>https://www.boston.gov/departments/parks-and-r...</td>\n",
       "      <td>42.355094</td>\n",
       "      <td>-71.067920</td>\n",
       "    </tr>\n",
       "    <tr>\n",
       "      <th>4</th>\n",
       "      <td>Massachusetts State House</td>\n",
       "      <td>24 Beacon St, Boston, MA 02133</td>\n",
       "      <td>http://www.malegislature.gov/</td>\n",
       "      <td>42.358781</td>\n",
       "      <td>-71.066004</td>\n",
       "    </tr>\n",
       "  </tbody>\n",
       "</table>\n",
       "</div>"
      ],
      "text/plain": [
       "                                         Place  \\\n",
       "0                           Harvard University   \n",
       "1  Massachusetts Institute of Technology (MIT)   \n",
       "2                         Hatch Memorial Shell   \n",
       "3                                Boston Common   \n",
       "4                    Massachusetts State House   \n",
       "\n",
       "                                     Address  \\\n",
       "0                        Cambridge, MA 02138   \n",
       "1  77 Massachusetts Ave, Cambridge, MA 02139   \n",
       "2     47 David G Mugar Way, Boston, MA 02108   \n",
       "3            1B Charles St, Boston, MA 02116   \n",
       "4             24 Beacon St, Boston, MA 02133   \n",
       "\n",
       "                                             Website   Latitude  Longitude  \n",
       "0                            https://www.harvard.edu  42.374740 -71.118838  \n",
       "1                                http://web.mit.edu/  42.360095 -71.096349  \n",
       "2                             http://hatchshell.com/  42.357293 -71.075888  \n",
       "3  https://www.boston.gov/departments/parks-and-r...  42.355094 -71.067920  \n",
       "4                      http://www.malegislature.gov/  42.358781 -71.066004  "
      ]
     },
     "execution_count": 52,
     "metadata": {},
     "output_type": "execute_result"
    }
   ],
   "source": [
    "sites_data.head()"
   ]
  },
  {
   "cell_type": "code",
   "execution_count": 61,
   "metadata": {},
   "outputs": [],
   "source": [
    "# Sites features Engineered\n",
    "\n",
    "landmarks=sites_data[\"Place\"]\n",
    "landmarks_lats = sites_data[\"Latitude\"]\n",
    "landmarks_longs = sites_data[\"Longitude\"]\n",
    "\n",
    "# pending further considerations\n",
    "def RMeanSquared(list_distances):\n",
    "    output = []\n",
    "    for i in list_distances:\n",
    "        output.append(i**2)\n",
    "    return np.sqrt(np.mean(output))\n",
    "\n",
    "result = []\n",
    "\n",
    "for i in range(len(df_none_null.index)):\n",
    "    dist_to_each_landmark = []\n",
    "    for j, landmark in enumerate(landmarks):\n",
    "        # euclideanDistance(lat1, long1, lat2, long2)\n",
    "        lat1,long1 = landmarks_lats[j],landmarks_longs[j]\n",
    "        lat2,long2 =df_none_null.iloc[i].latitude,df_none_null.iloc[i].longitude\n",
    "        # dist_to_each_landmark.append(euclideanDistance(lat1, long1, lat2, long2))\n",
    "        dist_to_each_landmark.append(geopy.distance.distance((lat1, long1),(lat2, long2)).km)\n",
    "    # result.append(min(dist_to_each_landmark))\n",
    "    result.append(RMeanSquared(dist_to_each_landmark))\n",
    "\n",
    "df_none_null[\"closeness_to_landmark\"] = result\n",
    "\n",
    "# for index, row in df_none_null.iterrows():\n",
    "#     print(index)"
   ]
  },
  {
   "cell_type": "code",
   "execution_count": 134,
   "metadata": {},
   "outputs": [
    {
     "data": {
      "text/html": [
       "<div>\n",
       "<style scoped>\n",
       "    .dataframe tbody tr th:only-of-type {\n",
       "        vertical-align: middle;\n",
       "    }\n",
       "\n",
       "    .dataframe tbody tr th {\n",
       "        vertical-align: top;\n",
       "    }\n",
       "\n",
       "    .dataframe thead th {\n",
       "        text-align: right;\n",
       "    }\n",
       "</style>\n",
       "<table border=\"1\" class=\"dataframe\">\n",
       "  <thead>\n",
       "    <tr style=\"text-align: right;\">\n",
       "      <th></th>\n",
       "      <th>closeness_to_landmark</th>\n",
       "      <th>price</th>\n",
       "    </tr>\n",
       "  </thead>\n",
       "  <tbody>\n",
       "    <tr>\n",
       "      <th>closeness_to_landmark</th>\n",
       "      <td>1.00000</td>\n",
       "      <td>-0.27197</td>\n",
       "    </tr>\n",
       "    <tr>\n",
       "      <th>price</th>\n",
       "      <td>-0.27197</td>\n",
       "      <td>1.00000</td>\n",
       "    </tr>\n",
       "  </tbody>\n",
       "</table>\n",
       "</div>"
      ],
      "text/plain": [
       "                       closeness_to_landmark    price\n",
       "closeness_to_landmark                1.00000 -0.27197\n",
       "price                               -0.27197  1.00000"
      ]
     },
     "execution_count": 134,
     "metadata": {},
     "output_type": "execute_result"
    }
   ],
   "source": [
    "outlier_removed = df_none_null[(np.abs(stats.zscore(df_none_null['price'])) < 3)]\n",
    "interested_var_df = outlier_removed[[\"closeness_to_landmark\", \"price\"]]\n",
    "interested_var_df.corr()"
   ]
  },
  {
   "cell_type": "code",
   "execution_count": 105,
   "metadata": {},
   "outputs": [],
   "source": [
    "# process subway json\n",
    "\n",
    "import simplejson as json\n",
    "subway_data_path = \"data/transport/subway.json\"\n",
    "# attributes.name .longitude .latitude .description\n",
    "# id\n",
    "# within attributes.description , there is Red Blue Green Orange Line info\n",
    "\n",
    "subway_names = []\n",
    "subway_lines = []\n",
    "subway_lats = []\n",
    "subway_longs = []\n",
    "with open(subway_data_path) as f:\n",
    "    subway_data = json.load(f)['data']\n",
    "    for i in subway_data:\n",
    "        subway_names.append(i['attributes']['name'])\n",
    "        subway_lats.append(i['attributes']['latitude'])\n",
    "        subway_longs.append(i['attributes']['longitude'])\n",
    "        if(\"Red Line\" in i['attributes']['description']):\n",
    "            subway_lines.append(\"r\")\n",
    "            # print(i['attributes']['description'])\n",
    "        elif(\"Blue Line\" in i['attributes']['description']):\n",
    "            subway_lines.append(\"b\")\n",
    "        elif(\"Orange Line\" in i['attributes']['description']):\n",
    "            subway_lines.append(\"o\")\n",
    "        else:\n",
    "            subway_lines.append(None)\n",
    "\n",
    "\n",
    "result = []\n",
    "\n",
    "for i in range(len(df_none_null.index)):\n",
    "    dist_to_each_subway = []\n",
    "    for j, subway in enumerate(subway_names):\n",
    "        # euclideanDistance(lat1, long1, lat2, long2)\n",
    "        lat1,long1 = subway_lats[j],subway_longs[j]\n",
    "        lat2,long2 =df_none_null.iloc[i].latitude,df_none_null.iloc[i].longitude\n",
    "        dist_to_each_subway.append(geopy.distance.distance((lat1, long1),(lat2, long2)).km)\n",
    "    result.append(min(dist_to_each_subway))\n",
    "\n",
    "df_none_null[\"closeness_to_subway\"] = result\n",
    "\n",
    "        \n"
   ]
  },
  {
   "cell_type": "code",
   "execution_count": 108,
   "metadata": {},
   "outputs": [
    {
     "data": {
      "text/plain": [
       "0.0062553124186862635"
      ]
     },
     "execution_count": 108,
     "metadata": {},
     "output_type": "execute_result"
    }
   ],
   "source": [
    "min(df_none_null[\"closeness_to_subway\"])"
   ]
  },
  {
   "cell_type": "code",
   "execution_count": 132,
   "metadata": {},
   "outputs": [
    {
     "data": {
      "text/plain": [
       "(0.0, 1000.0)"
      ]
     },
     "execution_count": 132,
     "metadata": {},
     "output_type": "execute_result"
    },
    {
     "data": {
      "image/png": "[encoded data removed]",
      "text/plain": [
       "<Figure size 432x288 with 1 Axes>"
      ]
     },
     "metadata": {
      "needs_background": "light"
     },
     "output_type": "display_data"
    }
   ],
   "source": [
    "plot = df_none_null.plot.scatter(x=\"closeness_to_subway\", y=\"price\")\n",
    "plot.set_xlim([0,2])\n",
    "plot.set_ylim([0,1000])"
   ]
  },
  {
   "cell_type": "code",
   "execution_count": 125,
   "metadata": {},
   "outputs": [
    {
     "data": {
      "text/html": [
       "<div>\n",
       "<style scoped>\n",
       "    .dataframe tbody tr th:only-of-type {\n",
       "        vertical-align: middle;\n",
       "    }\n",
       "\n",
       "    .dataframe tbody tr th {\n",
       "        vertical-align: top;\n",
       "    }\n",
       "\n",
       "    .dataframe thead th {\n",
       "        text-align: right;\n",
       "    }\n",
       "</style>\n",
       "<table border=\"1\" class=\"dataframe\">\n",
       "  <thead>\n",
       "    <tr style=\"text-align: right;\">\n",
       "      <th></th>\n",
       "      <th>closeness_to_subway</th>\n",
       "      <th>price</th>\n",
       "    </tr>\n",
       "  </thead>\n",
       "  <tbody>\n",
       "    <tr>\n",
       "      <th>closeness_to_subway</th>\n",
       "      <td>1.000000</td>\n",
       "      <td>-0.180812</td>\n",
       "    </tr>\n",
       "    <tr>\n",
       "      <th>price</th>\n",
       "      <td>-0.180812</td>\n",
       "      <td>1.000000</td>\n",
       "    </tr>\n",
       "  </tbody>\n",
       "</table>\n",
       "</div>"
      ],
      "text/plain": [
       "                     closeness_to_subway     price\n",
       "closeness_to_subway             1.000000 -0.180812\n",
       "price                          -0.180812  1.000000"
      ]
     },
     "execution_count": 125,
     "metadata": {},
     "output_type": "execute_result"
    }
   ],
   "source": [
    "outlier_removed = df_none_null[(np.abs(stats.zscore(df_none_null['price'])) < 3)]\n",
    "interested_var_df = outlier_removed[[\"closeness_to_subway\", \"price\"]]\n",
    "interested_var_df.corr()"
   ]
  },
  {
   "cell_type": "code",
   "execution_count": null,
   "metadata": {},
   "outputs": [],
   "source": [
    "# standardization\n",
    "# https://www.analyticsvidhya.com/blog/2020/04/feature-scaling-machine-learning-normalization-standardization/\n",
    "# https://stackoverflow.com/questions/26414913/normalize-columns-of-pandas-data-frame\n",
    "# normalized_df=(df-df.mean())/df.std()\n",
    "# normalized_df=(df-df.min())/(df.max()-df.min())"
   ]
  }
 ],
 "metadata": {
  "interpreter": {
   "hash": "ac4cc79bc1f1a59eb03ea5f2271fa031b0cad04395b546dc321eab6c66d93aea"
  },
  "kernelspec": {
   "display_name": "Python 3.9.6 64-bit ('lab4': pyenv)",
   "name": "python3"
  },
  "language_info": {
   "codemirror_mode": {
    "name": "ipython",
    "version": 3
   },
   "file_extension": ".py",
   "mimetype": "text/x-python",
   "name": "python",
   "nbconvert_exporter": "python",
   "pygments_lexer": "ipython3",
   "version": "3.9.6"
  },
  "orig_nbformat": 4
 },
 "nbformat": 4,
 "nbformat_minor": 2
}
