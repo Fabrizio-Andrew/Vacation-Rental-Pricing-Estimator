{
 "cells": [
  {
   "cell_type": "code",
   "execution_count": 32,
   "metadata": {},
   "outputs": [],
   "source": [
    "import csv\n",
    "import json\n",
    "import feather # pip install feather-format\n",
    "import numpy as np\n",
    "import pandas as pd\n",
    "import os\n",
    "import datetime\n",
    "import seaborn as sns\n",
    "import matplotlib.pyplot as plt\n",
    "from scipy import stats\n",
    "import geopandas as gpd\n",
    "import ast\n",
    "from sklearn import metrics\n",
    "from sklearn.metrics import r2_score, mean_absolute_error\n",
    "from sklearn.decomposition import PCA\n",
    "from sklearn.model_selection import train_test_split\n",
    "from sklearn.linear_model import LinearRegression,LogisticRegression\n",
    "%matplotlib inline\n",
    "## Some utility functions\n",
    "def percentToInt(percentString):\n",
    "    return int(percentString.rstrip(\"%\"))\n",
    "def trueFalseToBinary(tfstring):\n",
    "    return 1 if tfstring=='t' else '0'\n",
    "def stringListToList(stringList):\n",
    "    return ast.literal_eval(stringList)\n",
    "def stringListToCount(stringList):\n",
    "    return len(ast.literal_eval(stringList))\n",
    "\n",
    "reviews_data_path = \"feather/reviews.feather\"\n",
    "listings_data_path = \"feather/listings.feather\"\n",
    "calendar_data_path = \"feather/calendar.feather\"\n",
    "sites_data_path = \"data/sites_boston.csv\"\n",
    "\n",
    "reviews_data = pd.read_feather(reviews_data_path)\n",
    "listings_data = pd.read_feather(listings_data_path)\n",
    "calendar_data = pd.read_feather(calendar_data_path)\n",
    "sites_data = pd.read_csv(sites_data_path)\n",
    "\n",
    "# subway data\n",
    "# https://api-v3.mbta.com/docs/swagger/index.html#/Stop\n",
    "# holidays data\n",
    "# https://pypi.org/project/holidays/"
   ]
  },
  {
   "cell_type": "code",
   "execution_count": 33,
   "metadata": {},
   "outputs": [
    {
     "name": "stdout",
     "output_type": "stream",
     "text": [
      "before droppign rows with null columns:  (3043, 27)\n",
      "after dropping rows with null columns:  (1674, 27)\n"
     ]
    }
   ],
   "source": [
    "features_none_null = [\"host_since\",\"host_verifications\", \n",
    "                        \"host_response_rate\",\"host_acceptance_rate\",\n",
    "                        \"host_response_time\",\n",
    "                        \"host_is_superhost\", \n",
    "                        \"latitude\", \"longitude\",\n",
    "                        \"room_type\", \"accommodates\", \n",
    "                        \"amenities\",\"minimum_nights\",\n",
    "                        \"beds\", \n",
    "                        \"availability_30\",\t\"availability_60\",\t\"availability_90\",\"availability_365\", \n",
    "                        \"number_of_reviews\", \"review_scores_rating\", \n",
    "                        \"review_scores_accuracy\",\t\"review_scores_cleanliness\",\n",
    "                        \"review_scores_checkin\",\t\"review_scores_communication\",\n",
    "                        \"review_scores_location\",\t\"review_scores_value\",\n",
    "                        \"instant_bookable\",  \"price\",\n",
    "                        ]\n",
    "# onehot_vars = [\"room_type\", ]\n",
    "# binary_vars = [\"host_is_superhost\", \"instant_bookable\" ]\n",
    "\n",
    "df_none_null = listings_data.copy(deep = True)[features_none_null]\n",
    "print(\"before droppign rows with null columns: \", df_none_null.shape)\n",
    "for col in features_none_null:\n",
    "    df_none_null = df_none_null[df_none_null[col].notna()]\n",
    "print(\"after dropping rows with null columns: \", df_none_null.shape)\n"
   ]
  },
  {
   "cell_type": "code",
   "execution_count": null,
   "metadata": {},
   "outputs": [],
   "source": [
    "\n",
    "reference_date = datetime.datetime(2021,7,12)\n",
    "# adding custom: host_number_of_years\n",
    "host_number_of_years = [(reference_date - datetime.datetime.strptime(i, '%Y-%m-%d')).days/365\n",
    "                        for i in df_none_null['host_since']]\n",
    "df_none_null[\"host_number_of_years\"] = host_number_of_years\n",
    "df_none_null = df_none_null.drop(['host_since'], axis=1)\n",
    "df_none_null['price'] = df_none_null['price'].map(lambda x:float(x[1:].replace(',', ''))).astype('int32')\n",
    "# host reposnse rate; remove % sign, convert to integer\n",
    "df_none_null['host_response_rate'] = df_none_null['host_response_rate'].map(percentToInt).astype('int32')\n",
    "#  host_acceptance_rate:\n",
    "df_none_null['host_acceptance_rate'] = df_none_null['host_acceptance_rate'].map(percentToInt).astype('int32')\n",
    "\n",
    "host_response_time_dummies = pd.get_dummies(df_none_null['host_response_time'],prefix='host_response_time')\n",
    "df_none_null = pd.concat([df_none_null,host_response_time_dummies], axis = 1)\n",
    "df_none_null = df_none_null.drop(['host_response_time'], axis=1)\n",
    "\n",
    "# host_is_superhost: t/f to binary\n",
    "df_none_null['host_is_superhost'] = df_none_null['host_is_superhost'].map(trueFalseToBinary).astype('int32')\n",
    "# \"host_verifications\",\n",
    "df_none_null['host_verifications'] = df_none_null['host_verifications'].map(stringListToCount).astype('int32')\n",
    "\n",
    "room_type_dummies = pd.get_dummies(df_none_null['room_type'],prefix='room_type')\n",
    "df_none_null = pd.concat([df_none_null,room_type_dummies], axis = 1)\n",
    "df_none_null = df_none_null.drop(['room_type'], axis=1)\n",
    "\n",
    "df_none_null['amenities'] = df_none_null['amenities'].map(stringListToCount).astype('int32')\n",
    "# \"availability_30\",\n",
    "df_none_null['availability_30'] = df_none_null['availability_30']/30.0\n",
    "# \"availability_60\",\n",
    "df_none_null['availability_60'] = df_none_null['availability_60']/60.0\n",
    "# \"availability_90\",\n",
    "df_none_null['availability_90'] = df_none_null['availability_90']/90.0\n",
    "# \"availability_365\", \n",
    "df_none_null['availability_365'] = df_none_null['availability_365']/365.0\n",
    "\n",
    "df_none_null['instant_bookable'] = df_none_null['instant_bookable'].map(trueFalseToBinary).astype('int32')\n",
    "\n",
    "print(\"after processing\", df_none_null.shape)\n",
    "# df_none_null.dtypes"
   ]
  },
  {
   "cell_type": "code",
   "execution_count": null,
   "metadata": {},
   "outputs": [],
   "source": [
    "# Sites features Engineered\n"
   ]
  },
  {
   "cell_type": "code",
   "execution_count": null,
   "metadata": {},
   "outputs": [],
   "source": []
  }
 ],
 "metadata": {
  "interpreter": {
   "hash": "ac4cc79bc1f1a59eb03ea5f2271fa031b0cad04395b546dc321eab6c66d93aea"
  },
  "kernelspec": {
   "display_name": "Python 3.9.6 64-bit ('lab4': pyenv)",
   "name": "python3"
  },
  "language_info": {
   "codemirror_mode": {
    "name": "ipython",
    "version": 3
   },
   "file_extension": ".py",
   "mimetype": "text/x-python",
   "name": "python",
   "nbconvert_exporter": "python",
   "pygments_lexer": "ipython3",
   "version": "3.9.6"
  },
  "orig_nbformat": 4
 },
 "nbformat": 4,
 "nbformat_minor": 2
}
