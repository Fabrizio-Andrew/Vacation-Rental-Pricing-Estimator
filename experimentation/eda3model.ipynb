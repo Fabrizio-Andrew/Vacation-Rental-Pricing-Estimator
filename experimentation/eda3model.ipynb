{
 "cells": [
  {
   "cell_type": "code",
   "execution_count": 1,
   "metadata": {},
   "outputs": [],
   "source": [
    "import numpy as np\n",
    "import joblib\n",
    "import pandas as pd\n",
    "import json\n",
    "\n",
    "# data required for prediction \n",
    "# 11 features in exact order\n",
    "# some are calculated, some belong to single response\n",
    "\n",
    "features = ['host_response_time_a few days or more', # binary\n",
    " 'closeness_to_landmark',\n",
    " 'room_type_Private room', # binary\n",
    " 'host_response_time_within a day', # binary\n",
    " 'longitude',\n",
    " 'latitude',\n",
    " 'room_type_Hotel room', # binary\n",
    " 'review_scores_rating',\n",
    " 'host_response_time_within a few hours', # binary\n",
    " 'beds',\n",
    " 'accommodates']\n",
    "\n",
    "# once user enters address -> longitude and latitude, calculate closeness_to_landmark,\n",
    "# then user only has to input the following:\n",
    "#       host_response_time dropdown,\n",
    "#       room_type dropdown,\n",
    "#       review_scores_rating,\n",
    "#       beds,\n",
    "#       accommodates\n",
    "# total of 6 required inputs from user, and we can generate 11 features for prediction\n",
    "\n",
    "# non-binary features have been standardized, \n",
    "# to predict, standardize inputs by looking up mean and std values, example shown below\n",
    "\n",
    "\n",
    "with open(\"data/processed/boston_processed_mean.json\") as f:\n",
    "        all_means = json.load(f)\n",
    "        price_mean = all_means[\"price\"]\n",
    "with open(\"data/processed/boston_processed_std.json\") as s:\n",
    "        all_stds = json.load(s)\n",
    "        price_std = all_stds[\"price\"]\n",
    "\n",
    "example_input = np.array([[ 0.        ,  0.76013424,  0.        ,  0.        ,  0.45095014,\n",
    "        -1.09222555,  0.        ,  0.7678654 ,  0.        ,  0.15412874,\n",
    "        -0.57417196]])"
   ]
  },
  {
   "cell_type": "code",
   "execution_count": 2,
   "metadata": {},
   "outputs": [
    {
     "name": "stdout",
     "output_type": "stream",
     "text": [
      "predicted price is [124.39424538]\n"
     ]
    }
   ],
   "source": [
    "# random forest model \n",
    "# variables chosen by lasso regression\n",
    "_rf = joblib.load(\"RF_uncompressed.joblib\")\n",
    "result = _rf.predict(example_input)\n",
    "print(\"predicted price is\", result*price_std + price_mean)"
   ]
  },
  {
   "cell_type": "code",
   "execution_count": 3,
   "metadata": {},
   "outputs": [
    {
     "name": "stdout",
     "output_type": "stream",
     "text": [
      "predicted price is [133.78239315]\n"
     ]
    }
   ],
   "source": [
    "# lasso regression model; \n",
    "coefs=np.array([-0.18180501, -0.32107893, -0.36701204, -0.15250934, -0.05541475,\n",
    "       -0.03938244,  0.55789099,  0.01080494,  0.10483031,  0.25154944,\n",
    "        0.39175801])\n",
    "bias = 0.12633143197779734\n",
    "result = np.dot(coefs, example_input.reshape(-1,1))+bias\n",
    "print(\"predicted price is\", result*price_std + price_mean)"
   ]
  },
  {
   "cell_type": "code",
   "execution_count": null,
   "metadata": {},
   "outputs": [],
   "source": []
  }
 ],
 "metadata": {
  "interpreter": {
   "hash": "ac4cc79bc1f1a59eb03ea5f2271fa031b0cad04395b546dc321eab6c66d93aea"
  },
  "kernelspec": {
   "display_name": "Python 3.9.6 64-bit ('lab4': pyenv)",
   "name": "python3"
  },
  "language_info": {
   "codemirror_mode": {
    "name": "ipython",
    "version": 3
   },
   "file_extension": ".py",
   "mimetype": "text/x-python",
   "name": "python",
   "nbconvert_exporter": "python",
   "pygments_lexer": "ipython3",
   "version": "3.9.6"
  },
  "orig_nbformat": 4
 },
 "nbformat": 4,
 "nbformat_minor": 2
}
