{
 "cells": [
  {
   "cell_type": "code",
   "execution_count": 70,
   "metadata": {},
   "outputs": [],
   "source": [
    "import csv\n",
    "import json\n",
    "import feather # pip install feather-format\n",
    "import numpy as np\n",
    "import pandas as pd\n",
    "import os\n",
    "import datetime\n",
    "import seaborn as sns\n",
    "import matplotlib.pyplot as plt\n",
    "from scipy import stats\n",
    "import geopandas as gpd\n",
    "import ast\n",
    "from sklearn import metrics\n",
    "from sklearn.metrics import r2_score, mean_absolute_error\n",
    "from sklearn.decomposition import PCA\n",
    "from sklearn.model_selection import train_test_split\n",
    "from sklearn.linear_model import LinearRegression,LogisticRegression\n",
    "%matplotlib inline\n",
    "\n",
    "reviews_data_path = \"feather/reviews.feather\"\n",
    "listings_data_path = \"feather/listings.feather\"\n",
    "calendar_data_path = \"feather/calendar.feather\"\n",
    "\n",
    "# reviews_data = pd.read_feather(reviews_data_path)\n",
    "# listings_data = pd.read_feather(listings_data_path)\n",
    "calendar_data = pd.read_feather(calendar_data_path)"
   ]
  },
  {
   "cell_type": "code",
   "execution_count": 71,
   "metadata": {},
   "outputs": [
    {
     "name": "stdout",
     "output_type": "stream",
     "text": [
      "calendar data shape (1110686, 7)\n"
     ]
    },
    {
     "data": {
      "text/html": [
       "<div>\n",
       "<style scoped>\n",
       "    .dataframe tbody tr th:only-of-type {\n",
       "        vertical-align: middle;\n",
       "    }\n",
       "\n",
       "    .dataframe tbody tr th {\n",
       "        vertical-align: top;\n",
       "    }\n",
       "\n",
       "    .dataframe thead th {\n",
       "        text-align: right;\n",
       "    }\n",
       "</style>\n",
       "<table border=\"1\" class=\"dataframe\">\n",
       "  <thead>\n",
       "    <tr style=\"text-align: right;\">\n",
       "      <th></th>\n",
       "      <th>listing_id</th>\n",
       "      <th>date</th>\n",
       "      <th>available</th>\n",
       "      <th>price</th>\n",
       "      <th>adjusted_price</th>\n",
       "      <th>minimum_nights</th>\n",
       "      <th>maximum_nights</th>\n",
       "    </tr>\n",
       "  </thead>\n",
       "  <tbody>\n",
       "    <tr>\n",
       "      <th>0</th>\n",
       "      <td>3781</td>\n",
       "      <td>2021-07-12</td>\n",
       "      <td>f</td>\n",
       "      <td>$125.00</td>\n",
       "      <td>$125.00</td>\n",
       "      <td>32</td>\n",
       "      <td>1125</td>\n",
       "    </tr>\n",
       "    <tr>\n",
       "      <th>1</th>\n",
       "      <td>1644031</td>\n",
       "      <td>2021-07-12</td>\n",
       "      <td>f</td>\n",
       "      <td>$100.00</td>\n",
       "      <td>$90.00</td>\n",
       "      <td>1</td>\n",
       "      <td>1125</td>\n",
       "    </tr>\n",
       "    <tr>\n",
       "      <th>2</th>\n",
       "      <td>1644031</td>\n",
       "      <td>2021-07-13</td>\n",
       "      <td>f</td>\n",
       "      <td>$100.00</td>\n",
       "      <td>$90.00</td>\n",
       "      <td>1</td>\n",
       "      <td>1125</td>\n",
       "    </tr>\n",
       "    <tr>\n",
       "      <th>3</th>\n",
       "      <td>1644031</td>\n",
       "      <td>2021-07-14</td>\n",
       "      <td>f</td>\n",
       "      <td>$100.00</td>\n",
       "      <td>$90.00</td>\n",
       "      <td>1</td>\n",
       "      <td>1125</td>\n",
       "    </tr>\n",
       "    <tr>\n",
       "      <th>4</th>\n",
       "      <td>1644031</td>\n",
       "      <td>2021-07-15</td>\n",
       "      <td>f</td>\n",
       "      <td>$100.00</td>\n",
       "      <td>$100.00</td>\n",
       "      <td>1</td>\n",
       "      <td>1125</td>\n",
       "    </tr>\n",
       "  </tbody>\n",
       "</table>\n",
       "</div>"
      ],
      "text/plain": [
       "   listing_id        date available    price adjusted_price  minimum_nights  \\\n",
       "0        3781  2021-07-12         f  $125.00        $125.00              32   \n",
       "1     1644031  2021-07-12         f  $100.00         $90.00               1   \n",
       "2     1644031  2021-07-13         f  $100.00         $90.00               1   \n",
       "3     1644031  2021-07-14         f  $100.00         $90.00               1   \n",
       "4     1644031  2021-07-15         f  $100.00        $100.00               1   \n",
       "\n",
       "   maximum_nights  \n",
       "0            1125  \n",
       "1            1125  \n",
       "2            1125  \n",
       "3            1125  \n",
       "4            1125  "
      ]
     },
     "execution_count": 71,
     "metadata": {},
     "output_type": "execute_result"
    }
   ],
   "source": [
    "print(\"calendar data shape\", calendar_data.shape)\n",
    "calendar_data.head()"
   ]
  },
  {
   "cell_type": "code",
   "execution_count": 72,
   "metadata": {},
   "outputs": [
    {
     "name": "stdout",
     "output_type": "stream",
     "text": [
      "listing_id        0\n",
      "date              0\n",
      "available         0\n",
      "price             0\n",
      "adjusted_price    0\n",
      "minimum_nights    0\n",
      "maximum_nights    0\n",
      "dtype: int64\n",
      "(1110492, 7)\n"
     ]
    }
   ],
   "source": [
    "#remove missing\n",
    "calendar_data.isnull().sum() # No null value for column \"number_of_reviews\"\n",
    "df_calendar_data = calendar_data[calendar_data[\"price\"].notna()]\n",
    "print(df_calendar_data.isnull().sum())\n",
    "print(df_calendar_data.shape)\n"
   ]
  },
  {
   "cell_type": "markdown",
   "metadata": {},
   "source": [
    "# separate all by their listing_id\n",
    "# get average increases or decrease in price around different holidays\n",
    "# each listing gets 365 days"
   ]
  },
  {
   "cell_type": "code",
   "execution_count": 73,
   "metadata": {},
   "outputs": [
    {
     "data": {
      "text/plain": [
       "(365, 7)"
      ]
     },
     "execution_count": 73,
     "metadata": {},
     "output_type": "execute_result"
    }
   ],
   "source": [
    "\n",
    "df_calendar_data[df_calendar_data[\"listing_id\"]==1644031].shape"
   ]
  },
  {
   "cell_type": "code",
   "execution_count": 74,
   "metadata": {},
   "outputs": [
    {
     "data": {
      "text/plain": [
       "listing_id         int64\n",
       "date              object\n",
       "available         object\n",
       "price             object\n",
       "adjusted_price    object\n",
       "minimum_nights     int64\n",
       "maximum_nights     int64\n",
       "dtype: object"
      ]
     },
     "execution_count": 74,
     "metadata": {},
     "output_type": "execute_result"
    }
   ],
   "source": [
    "df_calendar_data.dtypes"
   ]
  },
  {
   "cell_type": "code",
   "execution_count": 75,
   "metadata": {},
   "outputs": [
    {
     "data": {
      "text/html": [
       "<div>\n",
       "<style scoped>\n",
       "    .dataframe tbody tr th:only-of-type {\n",
       "        vertical-align: middle;\n",
       "    }\n",
       "\n",
       "    .dataframe tbody tr th {\n",
       "        vertical-align: top;\n",
       "    }\n",
       "\n",
       "    .dataframe thead th {\n",
       "        text-align: right;\n",
       "    }\n",
       "</style>\n",
       "<table border=\"1\" class=\"dataframe\">\n",
       "  <thead>\n",
       "    <tr style=\"text-align: right;\">\n",
       "      <th></th>\n",
       "      <th>listing_id</th>\n",
       "      <th>date</th>\n",
       "      <th>available</th>\n",
       "      <th>price</th>\n",
       "      <th>adjusted_price</th>\n",
       "      <th>minimum_nights</th>\n",
       "      <th>maximum_nights</th>\n",
       "    </tr>\n",
       "  </thead>\n",
       "  <tbody>\n",
       "    <tr>\n",
       "      <th>0</th>\n",
       "      <td>3781</td>\n",
       "      <td>2021-07-12</td>\n",
       "      <td>f</td>\n",
       "      <td>$125.00</td>\n",
       "      <td>$125.00</td>\n",
       "      <td>32</td>\n",
       "      <td>1125</td>\n",
       "    </tr>\n",
       "    <tr>\n",
       "      <th>1</th>\n",
       "      <td>1644031</td>\n",
       "      <td>2021-07-12</td>\n",
       "      <td>f</td>\n",
       "      <td>$100.00</td>\n",
       "      <td>$90.00</td>\n",
       "      <td>1</td>\n",
       "      <td>1125</td>\n",
       "    </tr>\n",
       "    <tr>\n",
       "      <th>2</th>\n",
       "      <td>1644031</td>\n",
       "      <td>2021-07-13</td>\n",
       "      <td>f</td>\n",
       "      <td>$100.00</td>\n",
       "      <td>$90.00</td>\n",
       "      <td>1</td>\n",
       "      <td>1125</td>\n",
       "    </tr>\n",
       "    <tr>\n",
       "      <th>3</th>\n",
       "      <td>1644031</td>\n",
       "      <td>2021-07-14</td>\n",
       "      <td>f</td>\n",
       "      <td>$100.00</td>\n",
       "      <td>$90.00</td>\n",
       "      <td>1</td>\n",
       "      <td>1125</td>\n",
       "    </tr>\n",
       "    <tr>\n",
       "      <th>4</th>\n",
       "      <td>1644031</td>\n",
       "      <td>2021-07-15</td>\n",
       "      <td>f</td>\n",
       "      <td>$100.00</td>\n",
       "      <td>$100.00</td>\n",
       "      <td>1</td>\n",
       "      <td>1125</td>\n",
       "    </tr>\n",
       "  </tbody>\n",
       "</table>\n",
       "</div>"
      ],
      "text/plain": [
       "   listing_id        date available    price adjusted_price  minimum_nights  \\\n",
       "0        3781  2021-07-12         f  $125.00        $125.00              32   \n",
       "1     1644031  2021-07-12         f  $100.00         $90.00               1   \n",
       "2     1644031  2021-07-13         f  $100.00         $90.00               1   \n",
       "3     1644031  2021-07-14         f  $100.00         $90.00               1   \n",
       "4     1644031  2021-07-15         f  $100.00        $100.00               1   \n",
       "\n",
       "   maximum_nights  \n",
       "0            1125  \n",
       "1            1125  \n",
       "2            1125  \n",
       "3            1125  \n",
       "4            1125  "
      ]
     },
     "execution_count": 75,
     "metadata": {},
     "output_type": "execute_result"
    }
   ],
   "source": [
    "df_calendar_data.head() "
   ]
  },
  {
   "cell_type": "code",
   "execution_count": 76,
   "metadata": {},
   "outputs": [
    {
     "name": "stderr",
     "output_type": "stream",
     "text": [
      "/var/folders/89/dlgkzx7s06z_9t0lcl5wtj_w0000gp/T/ipykernel_93514/1209371843.py:8: SettingWithCopyWarning: \n",
      "A value is trying to be set on a copy of a slice from a DataFrame.\n",
      "Try using .loc[row_indexer,col_indexer] = value instead\n",
      "\n",
      "See the caveats in the documentation: https://pandas.pydata.org/pandas-docs/stable/user_guide/indexing.html#returning-a-view-versus-a-copy\n",
      "  df_calendar_data[\"date\"] = pd.to_datetime(df_calendar_data[\"date\"])\n",
      "/var/folders/89/dlgkzx7s06z_9t0lcl5wtj_w0000gp/T/ipykernel_93514/1209371843.py:17: SettingWithCopyWarning: \n",
      "A value is trying to be set on a copy of a slice from a DataFrame.\n",
      "Try using .loc[row_indexer,col_indexer] = value instead\n",
      "\n",
      "See the caveats in the documentation: https://pandas.pydata.org/pandas-docs/stable/user_guide/indexing.html#returning-a-view-versus-a-copy\n",
      "  df_calendar_data[\"price\"] = df_calendar_data[\"price\"].apply(clean_price)\n",
      "/var/folders/89/dlgkzx7s06z_9t0lcl5wtj_w0000gp/T/ipykernel_93514/1209371843.py:19: SettingWithCopyWarning: \n",
      "A value is trying to be set on a copy of a slice from a DataFrame.\n",
      "Try using .loc[row_indexer,col_indexer] = value instead\n",
      "\n",
      "See the caveats in the documentation: https://pandas.pydata.org/pandas-docs/stable/user_guide/indexing.html#returning-a-view-versus-a-copy\n",
      "  df_calendar_data[\"adjusted_price\"] = df_calendar_data[\"adjusted_price\"].apply(clean_price)\n"
     ]
    }
   ],
   "source": [
    "# # remove dollar sign from adjusted_price \n",
    "# df_calendar_data[\"adjusted_price\"] = df_calendar_data[\"adjusted_price\"].str.replace(\"$\", \"\")\n",
    "# #remove comma from adjusted_price \n",
    "# df_calendar_data[\"adjusted_price\"] = df_calendar_data[\"adjusted_price\"].str.replace(\",\", \"\")\n",
    "# # convert adjusted_price to float\n",
    "# df_calendar_data[\"adjusted_price\"] = df_calendar_data[\"adjusted_price\"].astype(float)\n",
    "# convert date to datetime\n",
    "df_calendar_data[\"date\"] = pd.to_datetime(df_calendar_data[\"date\"])\n",
    "\n",
    "# a function that removes dollar sign and comma from a string and then convert to float\n",
    "def clean_price(price):\n",
    "    price = price.replace(\"$\", \"\")\n",
    "    price = price.replace(\",\", \"\")\n",
    "    price = float(price)\n",
    "    return price\n",
    "\n",
    "df_calendar_data[\"price\"] = df_calendar_data[\"price\"].apply(clean_price)\n",
    "#apply clean_price to adjusted_price\n",
    "df_calendar_data[\"adjusted_price\"] = df_calendar_data[\"adjusted_price\"].apply(clean_price)\n"
   ]
  },
  {
   "cell_type": "code",
   "execution_count": 78,
   "metadata": {},
   "outputs": [
    {
     "data": {
      "text/html": [
       "<div>\n",
       "<style scoped>\n",
       "    .dataframe tbody tr th:only-of-type {\n",
       "        vertical-align: middle;\n",
       "    }\n",
       "\n",
       "    .dataframe tbody tr th {\n",
       "        vertical-align: top;\n",
       "    }\n",
       "\n",
       "    .dataframe thead th {\n",
       "        text-align: right;\n",
       "    }\n",
       "</style>\n",
       "<table border=\"1\" class=\"dataframe\">\n",
       "  <thead>\n",
       "    <tr style=\"text-align: right;\">\n",
       "      <th></th>\n",
       "      <th>listing_id</th>\n",
       "      <th>date</th>\n",
       "      <th>available</th>\n",
       "      <th>price</th>\n",
       "      <th>adjusted_price</th>\n",
       "      <th>minimum_nights</th>\n",
       "      <th>maximum_nights</th>\n",
       "    </tr>\n",
       "  </thead>\n",
       "  <tbody>\n",
       "    <tr>\n",
       "      <th>0</th>\n",
       "      <td>3781</td>\n",
       "      <td>2021-07-12</td>\n",
       "      <td>f</td>\n",
       "      <td>125.0</td>\n",
       "      <td>125.0</td>\n",
       "      <td>32</td>\n",
       "      <td>1125</td>\n",
       "    </tr>\n",
       "    <tr>\n",
       "      <th>1</th>\n",
       "      <td>1644031</td>\n",
       "      <td>2021-07-12</td>\n",
       "      <td>f</td>\n",
       "      <td>100.0</td>\n",
       "      <td>90.0</td>\n",
       "      <td>1</td>\n",
       "      <td>1125</td>\n",
       "    </tr>\n",
       "    <tr>\n",
       "      <th>2</th>\n",
       "      <td>1644031</td>\n",
       "      <td>2021-07-13</td>\n",
       "      <td>f</td>\n",
       "      <td>100.0</td>\n",
       "      <td>90.0</td>\n",
       "      <td>1</td>\n",
       "      <td>1125</td>\n",
       "    </tr>\n",
       "    <tr>\n",
       "      <th>3</th>\n",
       "      <td>1644031</td>\n",
       "      <td>2021-07-14</td>\n",
       "      <td>f</td>\n",
       "      <td>100.0</td>\n",
       "      <td>90.0</td>\n",
       "      <td>1</td>\n",
       "      <td>1125</td>\n",
       "    </tr>\n",
       "    <tr>\n",
       "      <th>4</th>\n",
       "      <td>1644031</td>\n",
       "      <td>2021-07-15</td>\n",
       "      <td>f</td>\n",
       "      <td>100.0</td>\n",
       "      <td>100.0</td>\n",
       "      <td>1</td>\n",
       "      <td>1125</td>\n",
       "    </tr>\n",
       "  </tbody>\n",
       "</table>\n",
       "</div>"
      ],
      "text/plain": [
       "   listing_id       date available  price  adjusted_price  minimum_nights  \\\n",
       "0        3781 2021-07-12         f  125.0           125.0              32   \n",
       "1     1644031 2021-07-12         f  100.0            90.0               1   \n",
       "2     1644031 2021-07-13         f  100.0            90.0               1   \n",
       "3     1644031 2021-07-14         f  100.0            90.0               1   \n",
       "4     1644031 2021-07-15         f  100.0           100.0               1   \n",
       "\n",
       "   maximum_nights  \n",
       "0            1125  \n",
       "1            1125  \n",
       "2            1125  \n",
       "3            1125  \n",
       "4            1125  "
      ]
     },
     "execution_count": 78,
     "metadata": {},
     "output_type": "execute_result"
    }
   ],
   "source": [
    "df_calendar_data.head()"
   ]
  },
  {
   "cell_type": "code",
   "execution_count": 79,
   "metadata": {},
   "outputs": [],
   "source": [
    "# group df_calendar_data by date\n",
    "df_calendar_data_grouped = df_calendar_data.groupby(by=[\"date\"])\n",
    "\n",
    "# df_group_by_date = df_calendar_data.groupby(level=\"date\")\n",
    "# df_group_by_date.mean()"
   ]
  },
  {
   "cell_type": "code",
   "execution_count": 86,
   "metadata": {},
   "outputs": [
    {
     "data": {
      "text/plain": [
       "<AxesSubplot:xlabel='date'>"
      ]
     },
     "execution_count": 86,
     "metadata": {},
     "output_type": "execute_result"
    },
    {
     "data": {
      "image/png": "[encoded data removed]",
      "text/plain": [
       "<Figure size 432x288 with 1 Axes>"
      ]
     },
     "metadata": {
      "needs_background": "light"
     },
     "output_type": "display_data"
    }
   ],
   "source": [
    "#  plot adjusted price\n",
    "df_calendar_data_grouped.mean()[\"adjusted_price\"].plot()"
   ]
  },
  {
   "cell_type": "code",
   "execution_count": 90,
   "metadata": {},
   "outputs": [
    {
     "name": "stderr",
     "output_type": "stream",
     "text": [
      "/var/folders/89/dlgkzx7s06z_9t0lcl5wtj_w0000gp/T/ipykernel_93514/1684644832.py:2: SettingWithCopyWarning: \n",
      "A value is trying to be set on a copy of a slice from a DataFrame.\n",
      "Try using .loc[row_indexer,col_indexer] = value instead\n",
      "\n",
      "See the caveats in the documentation: https://pandas.pydata.org/pandas-docs/stable/user_guide/indexing.html#returning-a-view-versus-a-copy\n",
      "  df_calendar_data[\"day_of_week\"] = df_calendar_data[\"date\"].dt.dayofweek\n"
     ]
    }
   ],
   "source": [
    "# add column \"day_of_week\" to df_calendar_data\n",
    "df_calendar_data[\"day_of_week\"] = df_calendar_data[\"date\"].dt.dayofweek"
   ]
  },
  {
   "cell_type": "code",
   "execution_count": 91,
   "metadata": {},
   "outputs": [
    {
     "data": {
      "text/html": [
       "<div>\n",
       "<style scoped>\n",
       "    .dataframe tbody tr th:only-of-type {\n",
       "        vertical-align: middle;\n",
       "    }\n",
       "\n",
       "    .dataframe tbody tr th {\n",
       "        vertical-align: top;\n",
       "    }\n",
       "\n",
       "    .dataframe thead th {\n",
       "        text-align: right;\n",
       "    }\n",
       "</style>\n",
       "<table border=\"1\" class=\"dataframe\">\n",
       "  <thead>\n",
       "    <tr style=\"text-align: right;\">\n",
       "      <th></th>\n",
       "      <th>listing_id</th>\n",
       "      <th>date</th>\n",
       "      <th>available</th>\n",
       "      <th>price</th>\n",
       "      <th>adjusted_price</th>\n",
       "      <th>minimum_nights</th>\n",
       "      <th>maximum_nights</th>\n",
       "      <th>day_of_week</th>\n",
       "    </tr>\n",
       "  </thead>\n",
       "  <tbody>\n",
       "    <tr>\n",
       "      <th>0</th>\n",
       "      <td>3781</td>\n",
       "      <td>2021-07-12</td>\n",
       "      <td>f</td>\n",
       "      <td>125.0</td>\n",
       "      <td>125.0</td>\n",
       "      <td>32</td>\n",
       "      <td>1125</td>\n",
       "      <td>0</td>\n",
       "    </tr>\n",
       "    <tr>\n",
       "      <th>1</th>\n",
       "      <td>1644031</td>\n",
       "      <td>2021-07-12</td>\n",
       "      <td>f</td>\n",
       "      <td>100.0</td>\n",
       "      <td>90.0</td>\n",
       "      <td>1</td>\n",
       "      <td>1125</td>\n",
       "      <td>0</td>\n",
       "    </tr>\n",
       "    <tr>\n",
       "      <th>2</th>\n",
       "      <td>1644031</td>\n",
       "      <td>2021-07-13</td>\n",
       "      <td>f</td>\n",
       "      <td>100.0</td>\n",
       "      <td>90.0</td>\n",
       "      <td>1</td>\n",
       "      <td>1125</td>\n",
       "      <td>1</td>\n",
       "    </tr>\n",
       "    <tr>\n",
       "      <th>3</th>\n",
       "      <td>1644031</td>\n",
       "      <td>2021-07-14</td>\n",
       "      <td>f</td>\n",
       "      <td>100.0</td>\n",
       "      <td>90.0</td>\n",
       "      <td>1</td>\n",
       "      <td>1125</td>\n",
       "      <td>2</td>\n",
       "    </tr>\n",
       "    <tr>\n",
       "      <th>4</th>\n",
       "      <td>1644031</td>\n",
       "      <td>2021-07-15</td>\n",
       "      <td>f</td>\n",
       "      <td>100.0</td>\n",
       "      <td>100.0</td>\n",
       "      <td>1</td>\n",
       "      <td>1125</td>\n",
       "      <td>3</td>\n",
       "    </tr>\n",
       "    <tr>\n",
       "      <th>...</th>\n",
       "      <td>...</td>\n",
       "      <td>...</td>\n",
       "      <td>...</td>\n",
       "      <td>...</td>\n",
       "      <td>...</td>\n",
       "      <td>...</td>\n",
       "      <td>...</td>\n",
       "      <td>...</td>\n",
       "    </tr>\n",
       "    <tr>\n",
       "      <th>1110681</th>\n",
       "      <td>50359377</td>\n",
       "      <td>2022-07-07</td>\n",
       "      <td>f</td>\n",
       "      <td>116.0</td>\n",
       "      <td>116.0</td>\n",
       "      <td>2</td>\n",
       "      <td>1125</td>\n",
       "      <td>3</td>\n",
       "    </tr>\n",
       "    <tr>\n",
       "      <th>1110682</th>\n",
       "      <td>50359377</td>\n",
       "      <td>2022-07-08</td>\n",
       "      <td>f</td>\n",
       "      <td>116.0</td>\n",
       "      <td>116.0</td>\n",
       "      <td>2</td>\n",
       "      <td>1125</td>\n",
       "      <td>4</td>\n",
       "    </tr>\n",
       "    <tr>\n",
       "      <th>1110683</th>\n",
       "      <td>50359377</td>\n",
       "      <td>2022-07-09</td>\n",
       "      <td>f</td>\n",
       "      <td>116.0</td>\n",
       "      <td>116.0</td>\n",
       "      <td>2</td>\n",
       "      <td>1125</td>\n",
       "      <td>5</td>\n",
       "    </tr>\n",
       "    <tr>\n",
       "      <th>1110684</th>\n",
       "      <td>50359377</td>\n",
       "      <td>2022-07-10</td>\n",
       "      <td>f</td>\n",
       "      <td>116.0</td>\n",
       "      <td>116.0</td>\n",
       "      <td>2</td>\n",
       "      <td>1125</td>\n",
       "      <td>6</td>\n",
       "    </tr>\n",
       "    <tr>\n",
       "      <th>1110685</th>\n",
       "      <td>50359377</td>\n",
       "      <td>2022-07-11</td>\n",
       "      <td>f</td>\n",
       "      <td>116.0</td>\n",
       "      <td>116.0</td>\n",
       "      <td>2</td>\n",
       "      <td>1125</td>\n",
       "      <td>0</td>\n",
       "    </tr>\n",
       "  </tbody>\n",
       "</table>\n",
       "<p>1110492 rows × 8 columns</p>\n",
       "</div>"
      ],
      "text/plain": [
       "         listing_id       date available  price  adjusted_price  \\\n",
       "0              3781 2021-07-12         f  125.0           125.0   \n",
       "1           1644031 2021-07-12         f  100.0            90.0   \n",
       "2           1644031 2021-07-13         f  100.0            90.0   \n",
       "3           1644031 2021-07-14         f  100.0            90.0   \n",
       "4           1644031 2021-07-15         f  100.0           100.0   \n",
       "...             ...        ...       ...    ...             ...   \n",
       "1110681    50359377 2022-07-07         f  116.0           116.0   \n",
       "1110682    50359377 2022-07-08         f  116.0           116.0   \n",
       "1110683    50359377 2022-07-09         f  116.0           116.0   \n",
       "1110684    50359377 2022-07-10         f  116.0           116.0   \n",
       "1110685    50359377 2022-07-11         f  116.0           116.0   \n",
       "\n",
       "         minimum_nights  maximum_nights  day_of_week  \n",
       "0                    32            1125            0  \n",
       "1                     1            1125            0  \n",
       "2                     1            1125            1  \n",
       "3                     1            1125            2  \n",
       "4                     1            1125            3  \n",
       "...                 ...             ...          ...  \n",
       "1110681               2            1125            3  \n",
       "1110682               2            1125            4  \n",
       "1110683               2            1125            5  \n",
       "1110684               2            1125            6  \n",
       "1110685               2            1125            0  \n",
       "\n",
       "[1110492 rows x 8 columns]"
      ]
     },
     "execution_count": 91,
     "metadata": {},
     "output_type": "execute_result"
    }
   ],
   "source": [
    "df_calendar_data"
   ]
  },
  {
   "cell_type": "code",
   "execution_count": 93,
   "metadata": {},
   "outputs": [
    {
     "data": {
      "text/plain": [
       "<AxesSubplot:xlabel='day_of_week'>"
      ]
     },
     "execution_count": 93,
     "metadata": {},
     "output_type": "execute_result"
    },
    {
     "data": {
      "image/png": "[encoded data removed]",
      "text/plain": [
       "<Figure size 432x288 with 1 Axes>"
      ]
     },
     "metadata": {
      "needs_background": "light"
     },
     "output_type": "display_data"
    }
   ],
   "source": [
    "# group df_calendar_data by day_of_week\n",
    "df_calendar_data_grouped_day_of_week = df_calendar_data.groupby(by=[\"day_of_week\"])\n",
    "\n",
    "# plot adjusted_price using barplot\n",
    "df_calendar_data_grouped_day_of_week.mean()[\"adjusted_price\"].plot(kind=\"bar\")\n",
    "\n",
    "# df_calendar_data_grouped_day_of_week.mean()[\"adjusted_price\"].plot()"
   ]
  },
  {
   "cell_type": "code",
   "execution_count": 102,
   "metadata": {},
   "outputs": [
    {
     "data": {
      "image/png": "[encoded data removed]",
      "text/plain": [
       "<Figure size 432x288 with 1 Axes>"
      ]
     },
     "metadata": {
      "needs_background": "light"
     },
     "output_type": "display_data"
    }
   ],
   "source": [
    "plot_bar = df_calendar_data_grouped_day_of_week.mean()[\"adjusted_price\"].plot(kind=\"bar\")\n",
    "# set plot_bar x-limit to 190 to 210\n",
    "plot_bar.set_ylim(190,210)\n",
    "\n",
    "# label each bar's value\n",
    "for p in plot_bar.patches:\n",
    "    plot_bar.annotate(str(p.get_height()), (p.get_x() * 1.005, p.get_height() * 1.005))"
   ]
  },
  {
   "cell_type": "code",
   "execution_count": 105,
   "metadata": {},
   "outputs": [
    {
     "name": "stderr",
     "output_type": "stream",
     "text": [
      "/var/folders/89/dlgkzx7s06z_9t0lcl5wtj_w0000gp/T/ipykernel_93514/2055401236.py:2: SettingWithCopyWarning: \n",
      "A value is trying to be set on a copy of a slice from a DataFrame.\n",
      "Try using .loc[row_indexer,col_indexer] = value instead\n",
      "\n",
      "See the caveats in the documentation: https://pandas.pydata.org/pandas-docs/stable/user_guide/indexing.html#returning-a-view-versus-a-copy\n",
      "  df_calendar_data[\"month_of_year\"] = df_calendar_data[\"date\"].dt.month\n"
     ]
    }
   ],
   "source": [
    "\n",
    "# add column \"month_of_year\" to df_calendar_data\n",
    "df_calendar_data[\"month_of_year\"] = df_calendar_data[\"date\"].dt.month"
   ]
  },
  {
   "cell_type": "code",
   "execution_count": 108,
   "metadata": {},
   "outputs": [
    {
     "data": {
      "text/plain": [
       "(175.0, 220.0)"
      ]
     },
     "execution_count": 108,
     "metadata": {},
     "output_type": "execute_result"
    },
    {
     "data": {
      "image/png": "[encoded data removed]",
      "text/plain": [
       "<Figure size 432x288 with 1 Axes>"
      ]
     },
     "metadata": {
      "needs_background": "light"
     },
     "output_type": "display_data"
    }
   ],
   "source": [
    "# group df_calendar_data by month_of_year\n",
    "df_calendar_data_grouped_month_of_year = df_calendar_data.groupby(by=[\"month_of_year\"])\n",
    "# plot adjusted_price using barplot\n",
    "plot_month = df_calendar_data_grouped_month_of_year.mean()[\"adjusted_price\"].plot(kind=\"bar\")\n",
    "# set y limit from 175 to 220\n",
    "plot_month.set_ylim(175,220)"
   ]
  },
  {
   "cell_type": "code",
   "execution_count": 115,
   "metadata": {},
   "outputs": [
    {
     "data": {
      "text/plain": [
       "(160.0, 260.0)"
      ]
     },
     "execution_count": 115,
     "metadata": {},
     "output_type": "execute_result"
    },
    {
     "data": {
      "image/png": "[encoded data removed]",
      "text/plain": [
       "<Figure size 432x288 with 1 Axes>"
      ]
     },
     "metadata": {
      "needs_background": "light"
     },
     "output_type": "display_data"
    }
   ],
   "source": [
    "plot_date = df_calendar_data_grouped.mean()[\"adjusted_price\"].plot()\n",
    "# set plot_date x-limit to 160 to 210\n",
    "plot_date.set_ylim(160,260)\n",
    "# set x limit from january to february\n",
    "\n"
   ]
  },
  {
   "cell_type": "code",
   "execution_count": 118,
   "metadata": {},
   "outputs": [
    {
     "data": {
      "text/plain": [
       "(18901.0, 18962.0)"
      ]
     },
     "execution_count": 118,
     "metadata": {},
     "output_type": "execute_result"
    },
    {
     "data": {
      "image/png": "[encoded data removed]",
      "text/plain": [
       "<Figure size 432x288 with 1 Axes>"
      ]
     },
     "metadata": {
      "needs_background": "light"
     },
     "output_type": "display_data"
    }
   ],
   "source": [
    "# datetime object for january 1 to february 1 of 2022\n",
    "select_date1 = datetime.datetime(year=2021, month=10, day=1)\n",
    "select_date2 = datetime.datetime(year=2021, month=12, day=1)\n",
    "plot_date = df_calendar_data_grouped.mean()[\"adjusted_price\"].plot()\n",
    "# set plot_date x-limit to 160 to 210\n",
    "plot_date.set_ylim(160,260)\n",
    "# set x limit\n",
    "plot_date.set_xlim(select_date1, select_date2)\n"
   ]
  },
  {
   "cell_type": "code",
   "execution_count": 120,
   "metadata": {},
   "outputs": [
    {
     "data": {
      "text/plain": [
       "0"
      ]
     },
     "execution_count": 120,
     "metadata": {},
     "output_type": "execute_result"
    }
   ],
   "source": [
    "# from reference_date\n",
    "reference_date = datetime.datetime(2021,7,12)\n",
    "# get reference_date day of week\n",
    "reference_date.weekday()\n",
    "# 0 means monday"
   ]
  },
  {
   "cell_type": "code",
   "execution_count": 125,
   "metadata": {},
   "outputs": [],
   "source": [
    "day_of_week_avg = df_calendar_data_grouped_day_of_week.mean()[\"adjusted_price\"]\n",
    "# get monday price\n",
    "monday_price = day_of_week_avg.loc[0]\n",
    "# delete monday price from day_of_week_avg\n",
    "day_of_week_diff = day_of_week_avg-monday_price\n",
    "# export day_of_week_diff to csv file\n",
    "day_of_week_diff.to_csv(\"data/processed/day_of_week_diff.csv\")\n"
   ]
  },
  {
   "cell_type": "code",
   "execution_count": 148,
   "metadata": {},
   "outputs": [],
   "source": [
    "import holidays\n",
    "\n",
    "# get us holidays for 2022\n",
    "us_holidays = holidays.US(years=[2021,2022])\n",
    "# get massachusetts holidays for 2021 and 2022\n",
    "massachusetts_holidays = holidays.US(state=\"MA\", years=[2021,2022])\n"
   ]
  },
  {
   "cell_type": "code",
   "execution_count": 185,
   "metadata": {},
   "outputs": [
    {
     "data": {
      "text/plain": [
       "30"
      ]
     },
     "execution_count": 185,
     "metadata": {},
     "output_type": "execute_result"
    }
   ],
   "source": [
    "len(massachusetts_holidays)"
   ]
  },
  {
   "cell_type": "code",
   "execution_count": 197,
   "metadata": {},
   "outputs": [
    {
     "data": {
      "text/plain": [
       "False    351\n",
       "True      15\n",
       "dtype: int64"
      ]
     },
     "execution_count": 197,
     "metadata": {},
     "output_type": "execute_result"
    }
   ],
   "source": [
    "# for each date in df_calendar_data_grouped that is a holiday, get mean adjust_price for that date\n",
    "###df_calendar_data_grouped_holidays = df_calendar_data_grouped[df_calendar_data_grouped[\"date\"] is in(us_holidays)]\n",
    "df_calendar_avg= df_calendar_data_grouped.mean()[\"adjusted_price\"]\n",
    "# function that converts datetime to date\n",
    "def convert_datetime_to_date(date):\n",
    "    return date\n",
    "\n",
    "# function that checks if a date is in massachusetts_holidays\n",
    "def is_massachusetts_holiday(date):\n",
    "    if date.date() in massachusetts_holidays:\n",
    "        return True\n",
    "    else:\n",
    "        return False\n",
    "\n",
    "result = []\n",
    "for date in df_calendar_avg.index:\n",
    "    # if is_massachusetts_holiday(convert_datetime_to_date(date)):\n",
    "    #     result.append(df_calendar_data_grouped.mean()[\"adjusted_price\"].loc[date])\n",
    "    # print(date)\n",
    "    result.append(is_massachusetts_holiday(date))\n",
    "\n",
    "# print(result)\n",
    "# function that counts values of a list\n",
    "result_pd =pd.Series(result)\n",
    "# count unique\n",
    "result_pd.value_counts()"
   ]
  },
  {
   "cell_type": "code",
   "execution_count": 209,
   "metadata": {},
   "outputs": [
    {
     "name": "stderr",
     "output_type": "stream",
     "text": [
      "/var/folders/89/dlgkzx7s06z_9t0lcl5wtj_w0000gp/T/ipykernel_93514/1451583841.py:13: SettingWithCopyWarning: \n",
      "A value is trying to be set on a copy of a slice from a DataFrame.\n",
      "Try using .loc[row_indexer,col_indexer] = value instead\n",
      "\n",
      "See the caveats in the documentation: https://pandas.pydata.org/pandas-docs/stable/user_guide/indexing.html#returning-a-view-versus-a-copy\n",
      "  df_calendar_avg_pd_result_true[\"holiday_name\"] = df_calendar_avg_pd_result_true.index\n",
      "/var/folders/89/dlgkzx7s06z_9t0lcl5wtj_w0000gp/T/ipykernel_93514/1451583841.py:14: SettingWithCopyWarning: \n",
      "A value is trying to be set on a copy of a slice from a DataFrame.\n",
      "Try using .loc[row_indexer,col_indexer] = value instead\n",
      "\n",
      "See the caveats in the documentation: https://pandas.pydata.org/pandas-docs/stable/user_guide/indexing.html#returning-a-view-versus-a-copy\n",
      "  df_calendar_avg_pd_result_true[\"holiday_name\"] = df_calendar_avg_pd_result_true[\"holiday_name\"].apply(get_holiday_name)\n"
     ]
    }
   ],
   "source": [
    "# create dataframe with df_calendar_avg\n",
    "df_calendar_avg_pd = pd.DataFrame(df_calendar_avg)\n",
    "# add column \"result\" to df_calendar_avg_pd\n",
    "df_calendar_avg_pd[\"result\"] = result\n",
    "\n",
    "def get_holiday_name(date):\n",
    "    if date in massachusetts_holidays:\n",
    "        return massachusetts_holidays[date]\n",
    "    else:\n",
    "        return None\n",
    "# filter out result = False\n",
    "df_calendar_avg_pd_result_true = df_calendar_avg_pd[df_calendar_avg_pd[\"result\"] == True]\n",
    "df_calendar_avg_pd_result_true[\"holiday_name\"] = df_calendar_avg_pd_result_true.index\n",
    "df_calendar_avg_pd_result_true[\"holiday_name\"] = df_calendar_avg_pd_result_true[\"holiday_name\"].apply(get_holiday_name)\n"
   ]
  },
  {
   "cell_type": "code",
   "execution_count": 208,
   "metadata": {},
   "outputs": [
    {
     "data": {
      "text/plain": [
       "True"
      ]
     },
     "execution_count": 208,
     "metadata": {},
     "output_type": "execute_result"
    }
   ],
   "source": [
    "test =df_calendar_avg_pd_result_true['holiday_name'].iloc[0]\n",
    "# massachusetts_holidays[test]\n",
    "test in massachusetts_holidays"
   ]
  },
  {
   "cell_type": "code",
   "execution_count": 210,
   "metadata": {},
   "outputs": [
    {
     "data": {
      "text/html": [
       "<div>\n",
       "<style scoped>\n",
       "    .dataframe tbody tr th:only-of-type {\n",
       "        vertical-align: middle;\n",
       "    }\n",
       "\n",
       "    .dataframe tbody tr th {\n",
       "        vertical-align: top;\n",
       "    }\n",
       "\n",
       "    .dataframe thead th {\n",
       "        text-align: right;\n",
       "    }\n",
       "</style>\n",
       "<table border=\"1\" class=\"dataframe\">\n",
       "  <thead>\n",
       "    <tr style=\"text-align: right;\">\n",
       "      <th></th>\n",
       "      <th>adjusted_price</th>\n",
       "      <th>result</th>\n",
       "      <th>holiday_name</th>\n",
       "    </tr>\n",
       "    <tr>\n",
       "      <th>date</th>\n",
       "      <th></th>\n",
       "      <th></th>\n",
       "      <th></th>\n",
       "    </tr>\n",
       "  </thead>\n",
       "  <tbody>\n",
       "    <tr>\n",
       "      <th>2021-09-06</th>\n",
       "      <td>193.403682</td>\n",
       "      <td>True</td>\n",
       "      <td>Labor Day</td>\n",
       "    </tr>\n",
       "    <tr>\n",
       "      <th>2021-10-11</th>\n",
       "      <td>238.294214</td>\n",
       "      <td>True</td>\n",
       "      <td>Columbus Day</td>\n",
       "    </tr>\n",
       "    <tr>\n",
       "      <th>2021-11-11</th>\n",
       "      <td>198.160421</td>\n",
       "      <td>True</td>\n",
       "      <td>Veterans Day</td>\n",
       "    </tr>\n",
       "    <tr>\n",
       "      <th>2021-11-25</th>\n",
       "      <td>199.019395</td>\n",
       "      <td>True</td>\n",
       "      <td>Thanksgiving</td>\n",
       "    </tr>\n",
       "    <tr>\n",
       "      <th>2021-12-24</th>\n",
       "      <td>202.765286</td>\n",
       "      <td>True</td>\n",
       "      <td>Christmas Day (Observed)</td>\n",
       "    </tr>\n",
       "    <tr>\n",
       "      <th>2021-12-25</th>\n",
       "      <td>205.512492</td>\n",
       "      <td>True</td>\n",
       "      <td>Christmas Day</td>\n",
       "    </tr>\n",
       "    <tr>\n",
       "      <th>2021-12-31</th>\n",
       "      <td>212.218606</td>\n",
       "      <td>True</td>\n",
       "      <td>New Year's Day (Observed)</td>\n",
       "    </tr>\n",
       "    <tr>\n",
       "      <th>2022-01-01</th>\n",
       "      <td>212.535832</td>\n",
       "      <td>True</td>\n",
       "      <td>New Year's Day</td>\n",
       "    </tr>\n",
       "    <tr>\n",
       "      <th>2022-01-17</th>\n",
       "      <td>182.311206</td>\n",
       "      <td>True</td>\n",
       "      <td>Martin Luther King Jr. Day</td>\n",
       "    </tr>\n",
       "    <tr>\n",
       "      <th>2022-02-21</th>\n",
       "      <td>184.548801</td>\n",
       "      <td>True</td>\n",
       "      <td>Washington's Birthday</td>\n",
       "    </tr>\n",
       "    <tr>\n",
       "      <th>2022-03-17</th>\n",
       "      <td>206.721985</td>\n",
       "      <td>True</td>\n",
       "      <td>Evacuation Day</td>\n",
       "    </tr>\n",
       "    <tr>\n",
       "      <th>2022-04-18</th>\n",
       "      <td>227.154453</td>\n",
       "      <td>True</td>\n",
       "      <td>Patriots' Day</td>\n",
       "    </tr>\n",
       "    <tr>\n",
       "      <th>2022-05-30</th>\n",
       "      <td>204.171870</td>\n",
       "      <td>True</td>\n",
       "      <td>Memorial Day</td>\n",
       "    </tr>\n",
       "    <tr>\n",
       "      <th>2022-06-19</th>\n",
       "      <td>208.499507</td>\n",
       "      <td>True</td>\n",
       "      <td>Juneteenth National Independence Day</td>\n",
       "    </tr>\n",
       "    <tr>\n",
       "      <th>2022-07-04</th>\n",
       "      <td>241.919106</td>\n",
       "      <td>True</td>\n",
       "      <td>Independence Day</td>\n",
       "    </tr>\n",
       "  </tbody>\n",
       "</table>\n",
       "</div>"
      ],
      "text/plain": [
       "            adjusted_price  result                          holiday_name\n",
       "date                                                                    \n",
       "2021-09-06      193.403682    True                             Labor Day\n",
       "2021-10-11      238.294214    True                          Columbus Day\n",
       "2021-11-11      198.160421    True                          Veterans Day\n",
       "2021-11-25      199.019395    True                          Thanksgiving\n",
       "2021-12-24      202.765286    True              Christmas Day (Observed)\n",
       "2021-12-25      205.512492    True                         Christmas Day\n",
       "2021-12-31      212.218606    True             New Year's Day (Observed)\n",
       "2022-01-01      212.535832    True                        New Year's Day\n",
       "2022-01-17      182.311206    True            Martin Luther King Jr. Day\n",
       "2022-02-21      184.548801    True                 Washington's Birthday\n",
       "2022-03-17      206.721985    True                        Evacuation Day\n",
       "2022-04-18      227.154453    True                         Patriots' Day\n",
       "2022-05-30      204.171870    True                          Memorial Day\n",
       "2022-06-19      208.499507    True  Juneteenth National Independence Day\n",
       "2022-07-04      241.919106    True                      Independence Day"
      ]
     },
     "execution_count": 210,
     "metadata": {},
     "output_type": "execute_result"
    }
   ],
   "source": [
    "df_calendar_avg_pd_result_true"
   ]
  },
  {
   "cell_type": "code",
   "execution_count": 213,
   "metadata": {},
   "outputs": [
    {
     "name": "stderr",
     "output_type": "stream",
     "text": [
      "/var/folders/89/dlgkzx7s06z_9t0lcl5wtj_w0000gp/T/ipykernel_93514/3376957875.py:2: SettingWithCopyWarning: \n",
      "A value is trying to be set on a copy of a slice from a DataFrame.\n",
      "Try using .loc[row_indexer,col_indexer] = value instead\n",
      "\n",
      "See the caveats in the documentation: https://pandas.pydata.org/pandas-docs/stable/user_guide/indexing.html#returning-a-view-versus-a-copy\n",
      "  df_calendar_avg_pd_result_true[\"diff\"] = df_calendar_avg_pd_result_true[\"adjusted_price\"]-reference_price\n"
     ]
    }
   ],
   "source": [
    "reference_price = df_calendar_avg.iloc[0]\n",
    "df_calendar_avg_pd_result_true[\"diff\"] = df_calendar_avg_pd_result_true[\"adjusted_price\"]-reference_price"
   ]
  },
  {
   "cell_type": "code",
   "execution_count": 214,
   "metadata": {},
   "outputs": [
    {
     "data": {
      "text/html": [
       "<div>\n",
       "<style scoped>\n",
       "    .dataframe tbody tr th:only-of-type {\n",
       "        vertical-align: middle;\n",
       "    }\n",
       "\n",
       "    .dataframe tbody tr th {\n",
       "        vertical-align: top;\n",
       "    }\n",
       "\n",
       "    .dataframe thead th {\n",
       "        text-align: right;\n",
       "    }\n",
       "</style>\n",
       "<table border=\"1\" class=\"dataframe\">\n",
       "  <thead>\n",
       "    <tr style=\"text-align: right;\">\n",
       "      <th></th>\n",
       "      <th>adjusted_price</th>\n",
       "      <th>result</th>\n",
       "      <th>holiday_name</th>\n",
       "      <th>diff</th>\n",
       "    </tr>\n",
       "    <tr>\n",
       "      <th>date</th>\n",
       "      <th></th>\n",
       "      <th></th>\n",
       "      <th></th>\n",
       "      <th></th>\n",
       "    </tr>\n",
       "  </thead>\n",
       "  <tbody>\n",
       "    <tr>\n",
       "      <th>2021-09-06</th>\n",
       "      <td>193.403682</td>\n",
       "      <td>True</td>\n",
       "      <td>Labor Day</td>\n",
       "      <td>21.504635</td>\n",
       "    </tr>\n",
       "    <tr>\n",
       "      <th>2021-10-11</th>\n",
       "      <td>238.294214</td>\n",
       "      <td>True</td>\n",
       "      <td>Columbus Day</td>\n",
       "      <td>66.395168</td>\n",
       "    </tr>\n",
       "    <tr>\n",
       "      <th>2021-11-11</th>\n",
       "      <td>198.160421</td>\n",
       "      <td>True</td>\n",
       "      <td>Veterans Day</td>\n",
       "      <td>26.261374</td>\n",
       "    </tr>\n",
       "    <tr>\n",
       "      <th>2021-11-25</th>\n",
       "      <td>199.019395</td>\n",
       "      <td>True</td>\n",
       "      <td>Thanksgiving</td>\n",
       "      <td>27.120349</td>\n",
       "    </tr>\n",
       "    <tr>\n",
       "      <th>2021-12-24</th>\n",
       "      <td>202.765286</td>\n",
       "      <td>True</td>\n",
       "      <td>Christmas Day (Observed)</td>\n",
       "      <td>30.866240</td>\n",
       "    </tr>\n",
       "    <tr>\n",
       "      <th>2021-12-25</th>\n",
       "      <td>205.512492</td>\n",
       "      <td>True</td>\n",
       "      <td>Christmas Day</td>\n",
       "      <td>33.613445</td>\n",
       "    </tr>\n",
       "    <tr>\n",
       "      <th>2021-12-31</th>\n",
       "      <td>212.218606</td>\n",
       "      <td>True</td>\n",
       "      <td>New Year's Day (Observed)</td>\n",
       "      <td>40.319560</td>\n",
       "    </tr>\n",
       "    <tr>\n",
       "      <th>2022-01-01</th>\n",
       "      <td>212.535832</td>\n",
       "      <td>True</td>\n",
       "      <td>New Year's Day</td>\n",
       "      <td>40.636785</td>\n",
       "    </tr>\n",
       "    <tr>\n",
       "      <th>2022-01-17</th>\n",
       "      <td>182.311206</td>\n",
       "      <td>True</td>\n",
       "      <td>Martin Luther King Jr. Day</td>\n",
       "      <td>10.412160</td>\n",
       "    </tr>\n",
       "    <tr>\n",
       "      <th>2022-02-21</th>\n",
       "      <td>184.548801</td>\n",
       "      <td>True</td>\n",
       "      <td>Washington's Birthday</td>\n",
       "      <td>12.649754</td>\n",
       "    </tr>\n",
       "    <tr>\n",
       "      <th>2022-03-17</th>\n",
       "      <td>206.721985</td>\n",
       "      <td>True</td>\n",
       "      <td>Evacuation Day</td>\n",
       "      <td>34.822939</td>\n",
       "    </tr>\n",
       "    <tr>\n",
       "      <th>2022-04-18</th>\n",
       "      <td>227.154453</td>\n",
       "      <td>True</td>\n",
       "      <td>Patriots' Day</td>\n",
       "      <td>55.255406</td>\n",
       "    </tr>\n",
       "    <tr>\n",
       "      <th>2022-05-30</th>\n",
       "      <td>204.171870</td>\n",
       "      <td>True</td>\n",
       "      <td>Memorial Day</td>\n",
       "      <td>32.272823</td>\n",
       "    </tr>\n",
       "    <tr>\n",
       "      <th>2022-06-19</th>\n",
       "      <td>208.499507</td>\n",
       "      <td>True</td>\n",
       "      <td>Juneteenth National Independence Day</td>\n",
       "      <td>36.600461</td>\n",
       "    </tr>\n",
       "    <tr>\n",
       "      <th>2022-07-04</th>\n",
       "      <td>241.919106</td>\n",
       "      <td>True</td>\n",
       "      <td>Independence Day</td>\n",
       "      <td>70.020059</td>\n",
       "    </tr>\n",
       "  </tbody>\n",
       "</table>\n",
       "</div>"
      ],
      "text/plain": [
       "            adjusted_price  result                          holiday_name  \\\n",
       "date                                                                       \n",
       "2021-09-06      193.403682    True                             Labor Day   \n",
       "2021-10-11      238.294214    True                          Columbus Day   \n",
       "2021-11-11      198.160421    True                          Veterans Day   \n",
       "2021-11-25      199.019395    True                          Thanksgiving   \n",
       "2021-12-24      202.765286    True              Christmas Day (Observed)   \n",
       "2021-12-25      205.512492    True                         Christmas Day   \n",
       "2021-12-31      212.218606    True             New Year's Day (Observed)   \n",
       "2022-01-01      212.535832    True                        New Year's Day   \n",
       "2022-01-17      182.311206    True            Martin Luther King Jr. Day   \n",
       "2022-02-21      184.548801    True                 Washington's Birthday   \n",
       "2022-03-17      206.721985    True                        Evacuation Day   \n",
       "2022-04-18      227.154453    True                         Patriots' Day   \n",
       "2022-05-30      204.171870    True                          Memorial Day   \n",
       "2022-06-19      208.499507    True  Juneteenth National Independence Day   \n",
       "2022-07-04      241.919106    True                      Independence Day   \n",
       "\n",
       "                 diff  \n",
       "date                   \n",
       "2021-09-06  21.504635  \n",
       "2021-10-11  66.395168  \n",
       "2021-11-11  26.261374  \n",
       "2021-11-25  27.120349  \n",
       "2021-12-24  30.866240  \n",
       "2021-12-25  33.613445  \n",
       "2021-12-31  40.319560  \n",
       "2022-01-01  40.636785  \n",
       "2022-01-17  10.412160  \n",
       "2022-02-21  12.649754  \n",
       "2022-03-17  34.822939  \n",
       "2022-04-18  55.255406  \n",
       "2022-05-30  32.272823  \n",
       "2022-06-19  36.600461  \n",
       "2022-07-04  70.020059  "
      ]
     },
     "execution_count": 214,
     "metadata": {},
     "output_type": "execute_result"
    }
   ],
   "source": [
    "df_calendar_avg_pd_result_true"
   ]
  },
  {
   "cell_type": "code",
   "execution_count": 252,
   "metadata": {},
   "outputs": [
    {
     "data": {
      "text/plain": [
       "<AxesSubplot:xlabel='holiday_name'>"
      ]
     },
     "execution_count": 252,
     "metadata": {},
     "output_type": "execute_result"
    },
    {
     "data": {
      "image/png": "[encoded data removed]",
      "text/plain": [
       "<Figure size 432x288 with 1 Axes>"
      ]
     },
     "metadata": {
      "needs_background": "light"
     },
     "output_type": "display_data"
    }
   ],
   "source": [
    "# plot diff vs holiday_name using barplot\n",
    "df_calendar_avg_pd_result_true.plot(kind=\"bar\", x=\"holiday_name\", y=\"diff\")\n",
    "# df_calendar_avg_pd_result_true.plot(x=\"holiday_name\", y=\"diff\")"
   ]
  },
  {
   "cell_type": "code",
   "execution_count": 215,
   "metadata": {},
   "outputs": [],
   "source": [
    "# export df_calendar_avg_pd_result_true to csv file\n",
    "df_calendar_avg_pd_result_true.to_csv(\"data/processed/massachusetts_holidays.csv\")"
   ]
  },
  {
   "cell_type": "code",
   "execution_count": 245,
   "metadata": {},
   "outputs": [],
   "source": [
    "# function that counts days between two dates\n",
    "def count_days_between_two_dates(date1, date2):\n",
    "    return (date2-date1).days\n",
    "\n",
    "# function that count minimum day between a date and massachusetts_holidays\n",
    "def count_min_day_between_date_and_massachusetts_holidays(date):\n",
    "    min_day = 4\n",
    "    for holiday in massachusetts_holidays:\n",
    "        if abs(count_days_between_two_dates(date, holiday)) <= min_day:\n",
    "            return (True, massachusetts_holidays[holiday], count_days_between_two_dates(date, holiday) )\n",
    "    return (False, None, count_days_between_two_dates(date, holiday))\n",
    "\n",
    "result_tf = []\n",
    "result_holiday_name = []\n",
    "result_days_from_holiday = []\n",
    "df_calendar_avg_pd_more_days = pd.DataFrame(df_calendar_avg)\n",
    "df_calendar_avg_pd_more_days[\"date2\"] = df_calendar_avg_pd_more_days.index\n",
    "for date in df_calendar_avg_pd_more_days['date2']:\n",
    "    result_tf.append(count_min_day_between_date_and_massachusetts_holidays(date.date())[0])\n",
    "    result_holiday_name.append(count_min_day_between_date_and_massachusetts_holidays(date.date())[1])\n",
    "    result_days_from_holiday.append(count_min_day_between_date_and_massachusetts_holidays(date.date())[2])\n",
    "\n",
    "df_calendar_avg_pd_more_days['holiday_3_days']=result_tf\n",
    "df_calendar_avg_pd_more_days['holiday']=result_holiday_name\n",
    "df_calendar_avg_pd_more_days['days_from_a_holiday']=result_days_from_holiday\n",
    "reference_price = df_calendar_avg.iloc[0]\n",
    "df_calendar_avg_pd_more_days[\"diff\"] = df_calendar_avg_pd_more_days[\"adjusted_price\"]-reference_price"
   ]
  },
  {
   "cell_type": "code",
   "execution_count": 246,
   "metadata": {},
   "outputs": [
    {
     "data": {
      "text/plain": [
       "False    250\n",
       "True     116\n",
       "Name: holiday_3_days, dtype: int64"
      ]
     },
     "execution_count": 246,
     "metadata": {},
     "output_type": "execute_result"
    }
   ],
   "source": [
    "df_calendar_avg_pd_more_days['holiday_3_days'].value_counts()"
   ]
  },
  {
   "cell_type": "code",
   "execution_count": 247,
   "metadata": {},
   "outputs": [
    {
     "data": {
      "text/html": [
       "<div>\n",
       "<style scoped>\n",
       "    .dataframe tbody tr th:only-of-type {\n",
       "        vertical-align: middle;\n",
       "    }\n",
       "\n",
       "    .dataframe tbody tr th {\n",
       "        vertical-align: top;\n",
       "    }\n",
       "\n",
       "    .dataframe thead th {\n",
       "        text-align: right;\n",
       "    }\n",
       "</style>\n",
       "<table border=\"1\" class=\"dataframe\">\n",
       "  <thead>\n",
       "    <tr style=\"text-align: right;\">\n",
       "      <th></th>\n",
       "      <th>adjusted_price</th>\n",
       "      <th>date2</th>\n",
       "      <th>holiday_3_days</th>\n",
       "      <th>holiday</th>\n",
       "      <th>days_from_a_holiday</th>\n",
       "      <th>diff</th>\n",
       "    </tr>\n",
       "    <tr>\n",
       "      <th>date</th>\n",
       "      <th></th>\n",
       "      <th></th>\n",
       "      <th></th>\n",
       "      <th></th>\n",
       "      <th></th>\n",
       "      <th></th>\n",
       "    </tr>\n",
       "  </thead>\n",
       "  <tbody>\n",
       "    <tr>\n",
       "      <th>2021-07-12</th>\n",
       "      <td>171.899046</td>\n",
       "      <td>2021-07-12</td>\n",
       "      <td>False</td>\n",
       "      <td>None</td>\n",
       "      <td>532</td>\n",
       "      <td>0.000000</td>\n",
       "    </tr>\n",
       "    <tr>\n",
       "      <th>2021-07-13</th>\n",
       "      <td>174.254438</td>\n",
       "      <td>2021-07-13</td>\n",
       "      <td>False</td>\n",
       "      <td>None</td>\n",
       "      <td>531</td>\n",
       "      <td>2.355392</td>\n",
       "    </tr>\n",
       "    <tr>\n",
       "      <th>2021-07-14</th>\n",
       "      <td>174.799474</td>\n",
       "      <td>2021-07-14</td>\n",
       "      <td>False</td>\n",
       "      <td>None</td>\n",
       "      <td>530</td>\n",
       "      <td>2.900428</td>\n",
       "    </tr>\n",
       "    <tr>\n",
       "      <th>2021-07-15</th>\n",
       "      <td>178.391847</td>\n",
       "      <td>2021-07-15</td>\n",
       "      <td>False</td>\n",
       "      <td>None</td>\n",
       "      <td>529</td>\n",
       "      <td>6.492801</td>\n",
       "    </tr>\n",
       "    <tr>\n",
       "      <th>2021-07-16</th>\n",
       "      <td>190.919461</td>\n",
       "      <td>2021-07-16</td>\n",
       "      <td>False</td>\n",
       "      <td>None</td>\n",
       "      <td>528</td>\n",
       "      <td>19.020415</td>\n",
       "    </tr>\n",
       "    <tr>\n",
       "      <th>...</th>\n",
       "      <td>...</td>\n",
       "      <td>...</td>\n",
       "      <td>...</td>\n",
       "      <td>...</td>\n",
       "      <td>...</td>\n",
       "      <td>...</td>\n",
       "    </tr>\n",
       "    <tr>\n",
       "      <th>2022-07-08</th>\n",
       "      <td>246.551463</td>\n",
       "      <td>2022-07-08</td>\n",
       "      <td>True</td>\n",
       "      <td>Independence Day</td>\n",
       "      <td>-4</td>\n",
       "      <td>74.652417</td>\n",
       "    </tr>\n",
       "    <tr>\n",
       "      <th>2022-07-09</th>\n",
       "      <td>246.727721</td>\n",
       "      <td>2022-07-09</td>\n",
       "      <td>False</td>\n",
       "      <td>None</td>\n",
       "      <td>170</td>\n",
       "      <td>74.828675</td>\n",
       "    </tr>\n",
       "    <tr>\n",
       "      <th>2022-07-10</th>\n",
       "      <td>238.048997</td>\n",
       "      <td>2022-07-10</td>\n",
       "      <td>False</td>\n",
       "      <td>None</td>\n",
       "      <td>169</td>\n",
       "      <td>66.149951</td>\n",
       "    </tr>\n",
       "    <tr>\n",
       "      <th>2022-07-11</th>\n",
       "      <td>238.158500</td>\n",
       "      <td>2022-07-11</td>\n",
       "      <td>False</td>\n",
       "      <td>None</td>\n",
       "      <td>168</td>\n",
       "      <td>66.259454</td>\n",
       "    </tr>\n",
       "    <tr>\n",
       "      <th>2022-07-12</th>\n",
       "      <td>38.000000</td>\n",
       "      <td>2022-07-12</td>\n",
       "      <td>False</td>\n",
       "      <td>None</td>\n",
       "      <td>167</td>\n",
       "      <td>-133.899046</td>\n",
       "    </tr>\n",
       "  </tbody>\n",
       "</table>\n",
       "<p>366 rows × 6 columns</p>\n",
       "</div>"
      ],
      "text/plain": [
       "            adjusted_price      date2  holiday_3_days           holiday  \\\n",
       "date                                                                      \n",
       "2021-07-12      171.899046 2021-07-12           False              None   \n",
       "2021-07-13      174.254438 2021-07-13           False              None   \n",
       "2021-07-14      174.799474 2021-07-14           False              None   \n",
       "2021-07-15      178.391847 2021-07-15           False              None   \n",
       "2021-07-16      190.919461 2021-07-16           False              None   \n",
       "...                    ...        ...             ...               ...   \n",
       "2022-07-08      246.551463 2022-07-08            True  Independence Day   \n",
       "2022-07-09      246.727721 2022-07-09           False              None   \n",
       "2022-07-10      238.048997 2022-07-10           False              None   \n",
       "2022-07-11      238.158500 2022-07-11           False              None   \n",
       "2022-07-12       38.000000 2022-07-12           False              None   \n",
       "\n",
       "            days_from_a_holiday        diff  \n",
       "date                                         \n",
       "2021-07-12                  532    0.000000  \n",
       "2021-07-13                  531    2.355392  \n",
       "2021-07-14                  530    2.900428  \n",
       "2021-07-15                  529    6.492801  \n",
       "2021-07-16                  528   19.020415  \n",
       "...                         ...         ...  \n",
       "2022-07-08                   -4   74.652417  \n",
       "2022-07-09                  170   74.828675  \n",
       "2022-07-10                  169   66.149951  \n",
       "2022-07-11                  168   66.259454  \n",
       "2022-07-12                  167 -133.899046  \n",
       "\n",
       "[366 rows x 6 columns]"
      ]
     },
     "execution_count": 247,
     "metadata": {},
     "output_type": "execute_result"
    }
   ],
   "source": [
    "df_calendar_avg_pd_more_days"
   ]
  },
  {
   "cell_type": "code",
   "execution_count": 248,
   "metadata": {},
   "outputs": [],
   "source": [
    "df_calendar_avg_pd_more_days\n",
    "# filter holiday_3_days = True\n",
    "df_calendar_avg_pd_more_days_holiday_3_days_true = df_calendar_avg_pd_more_days[df_calendar_avg_pd_more_days[\"holiday_3_days\"] == True]\n"
   ]
  },
  {
   "cell_type": "code",
   "execution_count": 249,
   "metadata": {},
   "outputs": [
    {
     "data": {
      "text/html": [
       "<div>\n",
       "<style scoped>\n",
       "    .dataframe tbody tr th:only-of-type {\n",
       "        vertical-align: middle;\n",
       "    }\n",
       "\n",
       "    .dataframe tbody tr th {\n",
       "        vertical-align: top;\n",
       "    }\n",
       "\n",
       "    .dataframe thead th {\n",
       "        text-align: right;\n",
       "    }\n",
       "</style>\n",
       "<table border=\"1\" class=\"dataframe\">\n",
       "  <thead>\n",
       "    <tr style=\"text-align: right;\">\n",
       "      <th></th>\n",
       "      <th>adjusted_price</th>\n",
       "      <th>date2</th>\n",
       "      <th>holiday_3_days</th>\n",
       "      <th>holiday</th>\n",
       "      <th>days_from_a_holiday</th>\n",
       "      <th>diff</th>\n",
       "    </tr>\n",
       "    <tr>\n",
       "      <th>date</th>\n",
       "      <th></th>\n",
       "      <th></th>\n",
       "      <th></th>\n",
       "      <th></th>\n",
       "      <th></th>\n",
       "      <th></th>\n",
       "    </tr>\n",
       "  </thead>\n",
       "  <tbody>\n",
       "    <tr>\n",
       "      <th>2021-09-02</th>\n",
       "      <td>191.933268</td>\n",
       "      <td>2021-09-02</td>\n",
       "      <td>True</td>\n",
       "      <td>Labor Day</td>\n",
       "      <td>4</td>\n",
       "      <td>20.034221</td>\n",
       "    </tr>\n",
       "    <tr>\n",
       "      <th>2021-09-03</th>\n",
       "      <td>206.349112</td>\n",
       "      <td>2021-09-03</td>\n",
       "      <td>True</td>\n",
       "      <td>Labor Day</td>\n",
       "      <td>3</td>\n",
       "      <td>34.450066</td>\n",
       "    </tr>\n",
       "    <tr>\n",
       "      <th>2021-09-04</th>\n",
       "      <td>206.027285</td>\n",
       "      <td>2021-09-04</td>\n",
       "      <td>True</td>\n",
       "      <td>Labor Day</td>\n",
       "      <td>2</td>\n",
       "      <td>34.128238</td>\n",
       "    </tr>\n",
       "    <tr>\n",
       "      <th>2021-09-05</th>\n",
       "      <td>196.111111</td>\n",
       "      <td>2021-09-05</td>\n",
       "      <td>True</td>\n",
       "      <td>Labor Day</td>\n",
       "      <td>1</td>\n",
       "      <td>24.212065</td>\n",
       "    </tr>\n",
       "    <tr>\n",
       "      <th>2021-09-06</th>\n",
       "      <td>193.403682</td>\n",
       "      <td>2021-09-06</td>\n",
       "      <td>True</td>\n",
       "      <td>Labor Day</td>\n",
       "      <td>0</td>\n",
       "      <td>21.504635</td>\n",
       "    </tr>\n",
       "    <tr>\n",
       "      <th>...</th>\n",
       "      <td>...</td>\n",
       "      <td>...</td>\n",
       "      <td>...</td>\n",
       "      <td>...</td>\n",
       "      <td>...</td>\n",
       "      <td>...</td>\n",
       "    </tr>\n",
       "    <tr>\n",
       "      <th>2022-07-04</th>\n",
       "      <td>241.919106</td>\n",
       "      <td>2022-07-04</td>\n",
       "      <td>True</td>\n",
       "      <td>Independence Day</td>\n",
       "      <td>0</td>\n",
       "      <td>70.020059</td>\n",
       "    </tr>\n",
       "    <tr>\n",
       "      <th>2022-07-05</th>\n",
       "      <td>239.241368</td>\n",
       "      <td>2022-07-05</td>\n",
       "      <td>True</td>\n",
       "      <td>Independence Day</td>\n",
       "      <td>-1</td>\n",
       "      <td>67.342322</td>\n",
       "    </tr>\n",
       "    <tr>\n",
       "      <th>2022-07-06</th>\n",
       "      <td>238.990135</td>\n",
       "      <td>2022-07-06</td>\n",
       "      <td>True</td>\n",
       "      <td>Independence Day</td>\n",
       "      <td>-2</td>\n",
       "      <td>67.091088</td>\n",
       "    </tr>\n",
       "    <tr>\n",
       "      <th>2022-07-07</th>\n",
       "      <td>239.869122</td>\n",
       "      <td>2022-07-07</td>\n",
       "      <td>True</td>\n",
       "      <td>Independence Day</td>\n",
       "      <td>-3</td>\n",
       "      <td>67.970076</td>\n",
       "    </tr>\n",
       "    <tr>\n",
       "      <th>2022-07-08</th>\n",
       "      <td>246.551463</td>\n",
       "      <td>2022-07-08</td>\n",
       "      <td>True</td>\n",
       "      <td>Independence Day</td>\n",
       "      <td>-4</td>\n",
       "      <td>74.652417</td>\n",
       "    </tr>\n",
       "  </tbody>\n",
       "</table>\n",
       "<p>116 rows × 6 columns</p>\n",
       "</div>"
      ],
      "text/plain": [
       "            adjusted_price      date2  holiday_3_days           holiday  \\\n",
       "date                                                                      \n",
       "2021-09-02      191.933268 2021-09-02            True         Labor Day   \n",
       "2021-09-03      206.349112 2021-09-03            True         Labor Day   \n",
       "2021-09-04      206.027285 2021-09-04            True         Labor Day   \n",
       "2021-09-05      196.111111 2021-09-05            True         Labor Day   \n",
       "2021-09-06      193.403682 2021-09-06            True         Labor Day   \n",
       "...                    ...        ...             ...               ...   \n",
       "2022-07-04      241.919106 2022-07-04            True  Independence Day   \n",
       "2022-07-05      239.241368 2022-07-05            True  Independence Day   \n",
       "2022-07-06      238.990135 2022-07-06            True  Independence Day   \n",
       "2022-07-07      239.869122 2022-07-07            True  Independence Day   \n",
       "2022-07-08      246.551463 2022-07-08            True  Independence Day   \n",
       "\n",
       "            days_from_a_holiday       diff  \n",
       "date                                        \n",
       "2021-09-02                    4  20.034221  \n",
       "2021-09-03                    3  34.450066  \n",
       "2021-09-04                    2  34.128238  \n",
       "2021-09-05                    1  24.212065  \n",
       "2021-09-06                    0  21.504635  \n",
       "...                         ...        ...  \n",
       "2022-07-04                    0  70.020059  \n",
       "2022-07-05                   -1  67.342322  \n",
       "2022-07-06                   -2  67.091088  \n",
       "2022-07-07                   -3  67.970076  \n",
       "2022-07-08                   -4  74.652417  \n",
       "\n",
       "[116 rows x 6 columns]"
      ]
     },
     "execution_count": 249,
     "metadata": {},
     "output_type": "execute_result"
    }
   ],
   "source": [
    "df_calendar_avg_pd_more_days_holiday_3_days_true"
   ]
  },
  {
   "cell_type": "code",
   "execution_count": null,
   "metadata": {},
   "outputs": [],
   "source": [
    "df_calendar_avg_pd_more_days_holiday_3_days_true"
   ]
  },
  {
   "cell_type": "code",
   "execution_count": 250,
   "metadata": {},
   "outputs": [],
   "source": [
    "# export df_calendar_avg_pd_more_days_holiday_3_days_true to csv file\n",
    "df_calendar_avg_pd_more_days_holiday_3_days_true.to_csv(\"data/processed/massachusetts_holidays_4_days.csv\")"
   ]
  },
  {
   "cell_type": "markdown",
   "metadata": {},
   "source": []
  },
  {
   "cell_type": "markdown",
   "metadata": {},
   "source": []
  }
 ],
 "metadata": {
  "interpreter": {
   "hash": "ac4cc79bc1f1a59eb03ea5f2271fa031b0cad04395b546dc321eab6c66d93aea"
  },
  "kernelspec": {
   "display_name": "Python 3.9.6 64-bit ('lab4': pyenv)",
   "name": "python3"
  },
  "language_info": {
   "codemirror_mode": {
    "name": "ipython",
    "version": 3
   },
   "file_extension": ".py",
   "mimetype": "text/x-python",
   "name": "python",
   "nbconvert_exporter": "python",
   "pygments_lexer": "ipython3",
   "version": "3.9.6"
  },
  "orig_nbformat": 4
 },
 "nbformat": 4,
 "nbformat_minor": 2
}
